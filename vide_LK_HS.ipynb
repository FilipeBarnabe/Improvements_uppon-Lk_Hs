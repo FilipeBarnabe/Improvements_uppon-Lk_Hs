{
 "cells": [
  {
   "cell_type": "code",
   "execution_count": 1,
   "metadata": {},
   "outputs": [],
   "source": [
    "import cv2 as cv \n",
    "import os\n",
    "\n",
    "# Custom packages\n",
    "from src.lk_hs.horn_shunck import hs\n",
    "from src.representation.colorwhele import visualize_flow"
   ]
  },
  {
   "cell_type": "code",
   "execution_count": 2,
   "metadata": {},
   "outputs": [],
   "source": [
    "def video(infile, outfile):\n",
    "    assert os.path.exists(infile), \"video doesn't exist\"\n",
    "    cap = cv.VideoCapture(infile)\n",
    "    fps = cap.get(cv.CAP_PROP_FPS)\n",
    "    width = cap.get(cv.CAP_PROP_FRAME_WIDTH)\n",
    "    height = cap.get(cv.CAP_PROP_FRAME_HEIGHT)\n",
    "    fourcc = cv.VideoWriter_fourcc('M','J','P','G')\n",
    "    out_video = cv.VideoWriter(outfile, fourcc, fps, (int(width), int(height)))\n",
    "    _, old_frame = cap.read()\n",
    "    while 1:\n",
    "        ret, frame = cap.read()\n",
    "        if ret:\n",
    "            prevRGB = cv.cvtColor(old_frame, cv.COLOR_BGR2GRAY)\n",
    "            nextRGB = cv.cvtColor(frame, cv.COLOR_BGR2GRAY)\n",
    "            u, v = hs(multi_channel=False, img_t=prevRGB, img_t1=nextRGB)\n",
    "            out = visualize_flow(u =u, v= v)\n",
    "            # cv.imshow('frame', out)\n",
    "            out_video.write(out)\n",
    "\n",
    "        else: \n",
    "            break"
   ]
  },
  {
   "cell_type": "code",
   "execution_count": 3,
   "metadata": {},
   "outputs": [
    {
     "name": "stderr",
     "output_type": "stream",
     "text": [
      "[ WARN:0@1.326] global /private/var/folders/nz/j6p8yfhx1mv_0grj5xl4650h0000gp/T/abs_c6qq9eqk9d/croots/recipe/opencv-suite_1663872527491/work/modules/videoio/src/cap_gstreamer.cpp (2386) handleMessage OpenCV | GStreamer warning: your GStreamer installation is missing a required plugin\n",
      "[ WARN:0@1.326] global /private/var/folders/nz/j6p8yfhx1mv_0grj5xl4650h0000gp/T/abs_c6qq9eqk9d/croots/recipe/opencv-suite_1663872527491/work/modules/videoio/src/cap_gstreamer.cpp (2402) handleMessage OpenCV | GStreamer warning: Embedded video playback halted; module uridecodebin0 reported: Your GStreamer installation is missing a plug-in.\n",
      "[ WARN:0@1.326] global /private/var/folders/nz/j6p8yfhx1mv_0grj5xl4650h0000gp/T/abs_c6qq9eqk9d/croots/recipe/opencv-suite_1663872527491/work/modules/videoio/src/cap_gstreamer.cpp (1356) open OpenCV | GStreamer warning: unable to start pipeline\n",
      "[ WARN:0@1.326] global /private/var/folders/nz/j6p8yfhx1mv_0grj5xl4650h0000gp/T/abs_c6qq9eqk9d/croots/recipe/opencv-suite_1663872527491/work/modules/videoio/src/cap_gstreamer.cpp (862) isPipelinePlaying OpenCV | GStreamer warning: GStreamer: pipeline have not been created\n",
      "[ WARN:0@1.414] global /private/var/folders/nz/j6p8yfhx1mv_0grj5xl4650h0000gp/T/abs_c6qq9eqk9d/croots/recipe/opencv-suite_1663872527491/work/modules/videoio/src/cap_gstreamer.cpp (2180) open OpenCV | GStreamer warning: cannot link elements\n"
     ]
    }
   ],
   "source": [
    "video(\"/Users/filipebarnabe/Documents/mecd_masters/VC/project/Forest_15_4_Videvo.mov\",\"HS_Forest_15_4.avi\")"
   ]
  },
  {
   "cell_type": "markdown",
   "metadata": {},
   "source": [
    "## Horn Shunck with multi channel"
   ]
  },
  {
   "cell_type": "code",
   "execution_count": 6,
   "metadata": {},
   "outputs": [],
   "source": [
    "def mc_video(infile, outfile):\n",
    "    assert os.path.exists(infile), \"video doesn't exist\"\n",
    "    cap = cv.VideoCapture(infile)\n",
    "    fps = cap.get(cv.CAP_PROP_FPS)\n",
    "    width = cap.get(cv.CAP_PROP_FRAME_WIDTH)\n",
    "    height = cap.get(cv.CAP_PROP_FRAME_HEIGHT)\n",
    "    fourcc = cv.VideoWriter_fourcc('M','J','P','G')\n",
    "    out_video = cv.VideoWriter(outfile, fourcc, fps, (int(width), int(height)))\n",
    "    _, old_frame = cap.read()\n",
    "    while 1:\n",
    "        ret, frame = cap.read()\n",
    "        if ret:\n",
    "            prevRGB = old_frame #cv.cvtColor(old_frame, cv.COLOR_BGR2GRAY)\n",
    "            nextRGB = frame #cv.cvtColor(frame, cv.COLOR_BGR2GRAY)\n",
    "            u, v = hs(multi_channel=True, img_t=prevRGB, img_t1=nextRGB)\n",
    "            out = visualize_flow(u =u, v= v)\n",
    "            # cv.imshow('frame', out)\n",
    "            out_video.write(out)\n",
    "\n",
    "        else: \n",
    "            break"
   ]
  },
  {
   "cell_type": "code",
   "execution_count": 7,
   "metadata": {},
   "outputs": [
    {
     "name": "stderr",
     "output_type": "stream",
     "text": [
      "[ WARN:0@1605.223] global /private/var/folders/nz/j6p8yfhx1mv_0grj5xl4650h0000gp/T/abs_c6qq9eqk9d/croots/recipe/opencv-suite_1663872527491/work/modules/videoio/src/cap_gstreamer.cpp (2386) handleMessage OpenCV | GStreamer warning: your GStreamer installation is missing a required plugin\n",
      "[ WARN:0@1605.223] global /private/var/folders/nz/j6p8yfhx1mv_0grj5xl4650h0000gp/T/abs_c6qq9eqk9d/croots/recipe/opencv-suite_1663872527491/work/modules/videoio/src/cap_gstreamer.cpp (2402) handleMessage OpenCV | GStreamer warning: Embedded video playback halted; module uridecodebin2 reported: Your GStreamer installation is missing a plug-in.\n",
      "[ WARN:0@1605.223] global /private/var/folders/nz/j6p8yfhx1mv_0grj5xl4650h0000gp/T/abs_c6qq9eqk9d/croots/recipe/opencv-suite_1663872527491/work/modules/videoio/src/cap_gstreamer.cpp (1356) open OpenCV | GStreamer warning: unable to start pipeline\n",
      "[ WARN:0@1605.223] global /private/var/folders/nz/j6p8yfhx1mv_0grj5xl4650h0000gp/T/abs_c6qq9eqk9d/croots/recipe/opencv-suite_1663872527491/work/modules/videoio/src/cap_gstreamer.cpp (862) isPipelinePlaying OpenCV | GStreamer warning: GStreamer: pipeline have not been created\n",
      "[ WARN:0@1605.244] global /private/var/folders/nz/j6p8yfhx1mv_0grj5xl4650h0000gp/T/abs_c6qq9eqk9d/croots/recipe/opencv-suite_1663872527491/work/modules/videoio/src/cap_gstreamer.cpp (2180) open OpenCV | GStreamer warning: cannot link elements\n"
     ]
    }
   ],
   "source": [
    "mc_video(\"/Users/filipebarnabe/Documents/mecd_masters/VC/project/Forest_15_4_Videvo.mov\",\"HS_MC_Forest_15_4.avi\")"
   ]
  }
 ],
 "metadata": {
  "kernelspec": {
   "display_name": "Python 3.10.4 ('vc')",
   "language": "python",
   "name": "python3"
  },
  "language_info": {
   "codemirror_mode": {
    "name": "ipython",
    "version": 3
   },
   "file_extension": ".py",
   "mimetype": "text/x-python",
   "name": "python",
   "nbconvert_exporter": "python",
   "pygments_lexer": "ipython3",
   "version": "3.10.4"
  },
  "orig_nbformat": 4,
  "vscode": {
   "interpreter": {
    "hash": "c87f266057d1f6a8e3c737812656f6c989a0ed75099af33d17532443c73542cc"
   }
  }
 },
 "nbformat": 4,
 "nbformat_minor": 2
}
