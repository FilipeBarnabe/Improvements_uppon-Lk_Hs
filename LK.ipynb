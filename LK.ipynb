{
 "cells": [
  {
   "cell_type": "code",
   "execution_count": 17,
   "metadata": {
    "pycharm": {
     "name": "#%%\n"
    }
   },
   "outputs": [],
   "source": [
    "import numpy as np\n",
    "from matplotlib import pyplot as plt\n",
    "import sys, os, cv2, time\n",
    "from src.representation.colorwhele import visualize_flow\n",
    "from src.evaluation.end_point_error import calc_MEPE_directory\n",
    "from src.evaluation.angular_error import calc_AAE_directory"
   ]
  },
  {
   "cell_type": "code",
   "execution_count": 18,
   "metadata": {
    "pycharm": {
     "name": "#%%\n"
    }
   },
   "outputs": [],
   "source": [
    "def calcOpticalFlowLK(prevImg, nextImg, winSize = 39, threshD = 1e-9):\n",
    "    prevImg = prevImg/1.\n",
    "    nextImg = nextImg/1.\n",
    "    \n",
    "    #Calculate derivatives alond x and y\n",
    "    prevDx = cv2.Sobel(prevImg,cv2.CV_64F,1,0, ksize=3)\n",
    "    prevDy = cv2.Sobel(prevImg,cv2.CV_64F,0,1, ksize=3)\n",
    "    nextDx = cv2.Sobel(nextImg,cv2.CV_64F,1,0, ksize=3)\n",
    "    nextDy = cv2.Sobel(nextImg,cv2.CV_64F,0,1, ksize=3)\n",
    "    \n",
    "    #compromise solution by the least squares principle\n",
    "    \n",
    "    sigma1 = prevDx**2 + nextDx**2\n",
    "    sigma2 = sigma4 = prevDx*prevDy+nextDx*nextDy\n",
    "    sigma3 = (nextImg-prevImg)*(prevDx+nextDx)\n",
    "    sigma5 = prevDy**2 + nextDy**2\n",
    "    sigma6 = (nextImg-prevImg)*(prevDy+nextDy)\n",
    "    sigma = [sigma1, sigma2, sigma3, sigma4, sigma5, sigma6]\n",
    "    \n",
    "    for i in range(len(sigma)):\n",
    "        #apply average blurring\n",
    "        sigma[i] = cv2.blur(sigma[i], (winSize, winSize))\n",
    "     \n",
    "    #Use Cramer's rule to solve the equation\n",
    "    \n",
    "    #Calculate determinant of the coefficients\n",
    "    D = sigma[1]**2 - sigma[0]*sigma[4]\n",
    "    D[np.abs(D) < threshD] = np.Inf\n",
    "\n",
    "    \n",
    "    #Cramers rule\n",
    "    # https://pressbooks.bccampus.ca/algebraintermediate/chapter/solve-systems-of-equations-using-determinants/\n",
    "    # Replace the X coefficients with the constants and take the determinant \n",
    "    hx = (sigma[4]*sigma[2]-sigma[1]*sigma[5]) / D\n",
    "    # Replace the Y coefficients with the constants and take the determinant \n",
    "    hy = (sigma[1]*sigma[2]-sigma[0]*sigma[5]) / D\n",
    "    \n",
    "    #length -> euclidean distance\n",
    "    arrow = np.sqrt(hx**2+hy**2)\n",
    "    \n",
    "    return hx, -hy, arrow"
   ]
  },
  {
   "cell_type": "code",
   "execution_count": 19,
   "metadata": {
    "pycharm": {
     "name": "#%%\n"
    }
   },
   "outputs": [],
   "source": [
    "def getCoor(hx, hy, arrow, step = 20, percent = 0.1):\n",
    "    y, x= np.meshgrid(np.arange(0, hx.shape[0], step), np.arange(0, hx.shape[1], step))\n",
    "    coor = np.vstack((x.flatten(), y.flatten()))\n",
    "    \n",
    "    arrow = arrow[y, x]\n",
    "    index = np.argsort(arrow.flatten())\n",
    "    coor = coor[:, index[int(-len(index)*percent):]]\n",
    "    return coor"
   ]
  },
  {
   "cell_type": "code",
   "execution_count": 20,
   "metadata": {
    "pycharm": {
     "name": "#%%\n"
    }
   },
   "outputs": [],
   "source": [
    "def drawArrow(img, hx, hy, coor, scale=50):\n",
    "    color = (0, 255, 255)\n",
    "    mask = np.zeros_like(img)\n",
    "    m = np.max((np.abs(hx), np.abs(hy)))\n",
    "    if m < 0.5:\n",
    "        scale /=0.5\n",
    "    for i in range(coor.shape[1]):\n",
    "        x1 = int(coor[0, i])\n",
    "        y1 = int(coor[1, i])\n",
    "        x2 = int(coor[0, i]+hx[y1, x1]*scale)\n",
    "        y2 = int(coor[1, i]+hy[y1, x1]*scale)\n",
    "        mask = cv2.line(mask, (x1, y1), (x2, y2), color, thickness=1)\n",
    "        mask = cv2.circle(mask,(x1,y1), 3, color, -1)\n",
    "    out = cv2.add(img, mask)\n",
    "    return out"
   ]
  },
  {
   "cell_type": "code",
   "execution_count": 21,
   "metadata": {
    "pycharm": {
     "name": "#%%\n"
    }
   },
   "outputs": [],
   "source": [
    "def test():\n",
    "    prevName = \"dataset/eval-data-gray/Army/frame07.png\"; nextName = \"dataset/eval-data-gray/Army/frame08.png\"\n",
    "    prevImg = cv2.imread(prevName)\n",
    "    nextImg = cv2.imread(nextName)\n",
    "    prevGray = cv2.cvtColor(prevImg, cv2.COLOR_BGR2GRAY)\n",
    "    nextGray = cv2.cvtColor(nextImg, cv2.COLOR_BGR2GRAY)\n",
    "    hx, hy, arrow= calcOpticalFlowLK(prevGray, nextGray)\n",
    "    print(\"arrow_max = {}\".format(np.max(arrow)))\n",
    "    coor = getCoor(hx, hy, arrow, step=10, percent=0.2)\n",
    "    out = drawArrow(prevImg, hx, hy, coor)\n",
    "    plt.hist(arrow.ravel(), 1000, [0, 1]); plt.show()\n",
    "    while 1:\n",
    "        cv2.imshow('frame',out)\n",
    "        k = cv2.waitKey(30) & 0xff\n",
    "        if k == 27:\n",
    "            break"
   ]
  },
  {
   "cell_type": "code",
   "execution_count": null,
   "metadata": {},
   "outputs": [],
   "source": []
  },
  {
   "cell_type": "code",
   "execution_count": 22,
   "metadata": {
    "pycharm": {
     "name": "#%%\n"
    }
   },
   "outputs": [],
   "source": [
    "def run(prevImg, nextImg):\n",
    "    prevGray = cv2.cvtColor(prevImg, cv2.COLOR_BGR2GRAY)\n",
    "    nextGray = cv2.cvtColor(nextImg, cv2.COLOR_BGR2GRAY)\n",
    "    hx, hy, arrow= calcOpticalFlowLK(prevGray, nextGray)\n",
    "    coor = getCoor(hx, hy, arrow)\n",
    "    out = drawArrow(prevImg, hx, hy, coor)\n",
    "    return out"
   ]
  },
  {
   "cell_type": "code",
   "execution_count": 23,
   "metadata": {
    "pycharm": {
     "name": "#%%\n"
    }
   },
   "outputs": [],
   "source": [
    "def main(folder_name):\n",
    "    folder_in = 'dataset/other-data-gray/'+folder_name+'/'\n",
    "    folder_out = 'results/result-other-grey-LK/'+folder_name+'/'\n",
    "    if not os.path.exists(folder_out):\n",
    "        os.mkdir(folder_out)\n",
    "    files = os.listdir(folder_in)\n",
    "    files.sort()\n",
    "    for i in range(len(files)-1):\n",
    "        prevImg = cv2.imread(folder_in+files[i])\n",
    "        nextImg = cv2.imread(folder_in+files[i+1])\n",
    "        out = run(prevImg, nextImg)\n",
    "        cv2.imwrite(folder_out+str(i)+'.png', out)"
   ]
  },
  {
   "cell_type": "code",
   "execution_count": 24,
   "metadata": {},
   "outputs": [],
   "source": [
    "def calc_all():\n",
    "    folders = [\"Army\",\"Backyard\",\"Basketball\",\"Dumptruck\",\"Evergreen\",\"Grove\",\"Mequon\",\"Schefflera\",\"Teddy\",\"Urban\",\"Wooden\",\"Yosemite\"]\n",
    "    for folder in folders:\n",
    "        main(folder)\n",
    "        print(folder +\": Succesfully calcualted optical flow\")"
   ]
  },
  {
   "cell_type": "code",
   "execution_count": 25,
   "metadata": {},
   "outputs": [],
   "source": [
    "#calc_all()"
   ]
  },
  {
   "cell_type": "code",
   "execution_count": 26,
   "metadata": {},
   "outputs": [],
   "source": [
    "def calc_all_other():\n",
    "    folders = [\"Beanbags\",\"Dimetrodon\",\"DogDance\",\"Grove2\",\"Grove3\",\"Hydrangea\",\"MiniCooper\",\"RubberWhale\",\"Urban2\",\"Urban3\",\"Venus\",\"Walking\"]\n",
    "    for folder in folders:\n",
    "        main(folder)\n",
    "        print(folder +\": Succesfully calcualted optical flow\")"
   ]
  },
  {
   "cell_type": "code",
   "execution_count": 27,
   "metadata": {},
   "outputs": [],
   "source": [
    "#calc_all_other()"
   ]
  },
  {
   "cell_type": "code",
   "execution_count": 28,
   "metadata": {
    "pycharm": {
     "name": "#%%\n"
    }
   },
   "outputs": [],
   "source": [
    "def video(infile, outfile = 'result.avi'):\n",
    "    assert os.path.exists(infile), \"video doesn't exist\"\n",
    "    cap = cv2.VideoCapture(infile)\n",
    "    fps = cap.get(cv2.CAP_PROP_FPS)\n",
    "    width = cap.get(cv2.CAP_PROP_FRAME_WIDTH)\n",
    "    height = cap.get(cv2.CAP_PROP_FRAME_HEIGHT)\n",
    "    fourcc = cv2.VideoWriter_fourcc('M','J','P','G')\n",
    "    out_video = cv2.VideoWriter(outfile, fourcc, fps, (int(width), int(height)))\n",
    "    _, old_frame = cap.read()\n",
    "    while 1:\n",
    "        ret, frame = cap.read()\n",
    "        if ret:\n",
    "            out = run(old_frame, frame)\n",
    "            cv2.imshow('frame', out)\n",
    "            out_video.write(out)\n",
    "        else: break\n",
    "    cv2.destroyAllWindows()\n",
    "    out_video.release()\n",
    "    cap.release()"
   ]
  },
  {
   "cell_type": "code",
   "execution_count": 15,
   "metadata": {},
   "outputs": [],
   "source": [
    "#video(\"/Users/xavierverbrugge/Documents/School/Master/2e Master/1 SEM/Computer Vision/Assignment 2/Forest_15_3b_Videvo.mov\")"
   ]
  },
  {
   "cell_type": "code",
   "execution_count": 16,
   "metadata": {},
   "outputs": [],
   "source": [
    "# Calculation of Average end-point error\n",
    "# End-to-end point error is calculated by comparing an estimated optical flow vector (v_est ) with a groundtruth optical flow vector ( v_gt )."
   ]
  },
  {
   "cell_type": "code",
   "execution_count": 37,
   "metadata": {},
   "outputs": [],
   "source": [
    "def calc():\n",
    "    folders = [\"Dimetrodon\",\"Grove2\",\"Grove3\",\"Hydrangea\",\"RubberWhale\",\"Urban2\",\"Urban3\",\"Venus\"]\n",
    "    #folders = [\"RubberWhale\",\"Urban2\",\"Urban3\",\"Venus\"]\n",
    "\n",
    "    for folder in folders:\n",
    "        prevImg= cv2.imread(\"dataset/other-data-gray/\"+folder+\"/frame10.png\")\n",
    "        nextImg= cv2.imread(\"dataset/other-data-gray/\"+folder+\"/frame11.png\")\n",
    "        prevGray = cv2.cvtColor(prevImg, cv2.COLOR_BGR2GRAY)\n",
    "        nextGray = cv2.cvtColor(nextImg, cv2.COLOR_BGR2GRAY)\n",
    "        hx, hy, arrow= calcOpticalFlowLK(prevGray, nextGray)\n",
    "        print(folder +\": Succesfully calcualted optical flow\")\n",
    "        out = visualize_flow(u = hx, v = hy)\n",
    "        #Save the flow image\n",
    "        folder_out = \"results/result-other-grey-LK/\"+str(folder)+\"/\"\n",
    "        if not os.path.exists(folder_out):\n",
    "            os.mkdir(folder_out)\n",
    "        cv2.imwrite(folder_out+ str(folder)+\".png\", out)\n",
    "\n",
    "        #Replace Nan's\n",
    "        u = np.nan_to_num(hx)\n",
    "        v = np.nan_to_num(hy)\n",
    "\n",
    "        \n",
    "        #Calculate statistics\n",
    "        mepe, sdEpe = calc_MEPE_directory(folder, u = u, v = v)\n",
    "        print(\"The Average End Point Error for \"+folder+ \" is: \" + str(mepe)+\" and the standard deviation is: \"+str(sdEpe))\n",
    "\n",
    "        mang, sdAngular = calc_AAE_directory(folder, u= u, v = v)\n",
    "\n",
    "        print(\"The Average Angular error for \"+folder+ \" is: \" + str(mang)+\" and the standard deviation is: \"+str(sdAngular))"
   ]
  },
  {
   "cell_type": "code",
   "execution_count": 39,
   "metadata": {},
   "outputs": [
    {
     "name": "stdout",
     "output_type": "stream",
     "text": [
      "Dimetrodon: Succesfully calcualted optical flow\n",
      "The Average End Point Error for Dimetrodon is: 1.95 and the standard deviation is: 0.71\n",
      "The Average Angular error for Dimetrodon is: 0.55 and the standard deviation is: 0.13\n",
      "Grove2: Succesfully calcualted optical flow\n",
      "The Average End Point Error for Grove2 is: 3.03 and the standard deviation is: 0.5\n",
      "The Average Angular error for Grove2 is: 0.37 and the standard deviation is: 0.06\n",
      "Grove3: Succesfully calcualted optical flow\n",
      "The Average End Point Error for Grove3 is: 3.84 and the standard deviation is: 2.31\n",
      "The Average Angular error for Grove3 is: 0.39 and the standard deviation is: 0.2\n",
      "Hydrangea: Succesfully calcualted optical flow\n",
      "The Average End Point Error for Hydrangea is: 3.64 and the standard deviation is: 1.16\n",
      "The Average Angular error for Hydrangea is: 0.37 and the standard deviation is: 0.13\n",
      "RubberWhale: Succesfully calcualted optical flow\n",
      "The Average End Point Error for RubberWhale is: 1.14 and the standard deviation is: 0.49\n",
      "The Average Angular error for RubberWhale is: 0.72 and the standard deviation is: 0.11\n",
      "Urban2: Succesfully calcualted optical flow\n",
      "The Average End Point Error for Urban2 is: 8.32 and the standard deviation is: 8.09\n",
      "The Average Angular error for Urban2 is: 0.38 and the standard deviation is: 0.29\n",
      "Urban3: Succesfully calcualted optical flow\n",
      "The Average End Point Error for Urban3 is: 7.23 and the standard deviation is: 4.39\n",
      "The Average Angular error for Urban3 is: 0.27 and the standard deviation is: 0.15\n",
      "Venus: Succesfully calcualted optical flow\n",
      "The Average End Point Error for Venus is: 3.73 and the standard deviation is: 1.77\n",
      "The Average Angular error for Venus is: 0.38 and the standard deviation is: 0.16\n"
     ]
    }
   ],
   "source": [
    "calc()"
   ]
  },
  {
   "cell_type": "code",
   "execution_count": null,
   "metadata": {},
   "outputs": [],
   "source": []
  },
  {
   "cell_type": "code",
   "execution_count": null,
   "metadata": {},
   "outputs": [],
   "source": []
  },
  {
   "cell_type": "code",
   "execution_count": null,
   "metadata": {},
   "outputs": [],
   "source": []
  }
 ],
 "metadata": {
  "kernelspec": {
   "display_name": "Python 3 (ipykernel)",
   "language": "python",
   "name": "python3"
  },
  "language_info": {
   "codemirror_mode": {
    "name": "ipython",
    "version": 3
   },
   "file_extension": ".py",
   "mimetype": "text/x-python",
   "name": "python",
   "nbconvert_exporter": "python",
   "pygments_lexer": "ipython3",
   "version": "3.9.15"
  }
 },
 "nbformat": 4,
 "nbformat_minor": 1
}
