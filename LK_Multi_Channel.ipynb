{
 "cells": [
  {
   "cell_type": "code",
   "execution_count": 34,
   "metadata": {
    "pycharm": {
     "name": "#%%\n"
    }
   },
   "outputs": [],
   "source": [
    "import numpy as np\n",
    "from matplotlib import pyplot as plt\n",
    "import sys, os, cv2, time\n",
    "from src.representation.colorwhele import visualize_flow\n",
    "from src.representation.colorwhele import visualize_flow\n",
    "from src.evaluation.end_point_error import calc_MEPE_directory\n",
    "from src.evaluation.angular_error import calc_AAE_directory"
   ]
  },
  {
   "cell_type": "code",
   "execution_count": 35,
   "metadata": {
    "pycharm": {
     "name": "#%%\n"
    }
   },
   "outputs": [],
   "source": [
    "def extractChannels(Img):\n",
    "    red = img[:,:,2]\n",
    "    green = img[:,:,1]\n",
    "    blue = img[:,:,0]\n",
    "    return blue,green,red"
   ]
  },
  {
   "cell_type": "code",
   "execution_count": 36,
   "metadata": {
    "pycharm": {
     "name": "#%%\n"
    }
   },
   "outputs": [],
   "source": [
    "def calcDerivativesForEachChannel(img):\n",
    "    red = img[:,:,2]\n",
    "    green = img[:,:,1]\n",
    "    blue = img[:,:,0]\n",
    "\n",
    "    #Calculate X derivatives\n",
    "    I0x = cv2.Sobel(blue,cv2.CV_64F,1,0, ksize=3)\n",
    "    I1x = cv2.Sobel(green,cv2.CV_64F,1,0, ksize=3)\n",
    "    I2x = cv2.Sobel(red,cv2.CV_64F,1,0, ksize=3)\n",
    "\n",
    "    #Caluclate Y derivatives\n",
    "    I0y = cv2.Sobel(blue,cv2.CV_64F,0,1, ksize=3)\n",
    "    I1y = cv2.Sobel(green,cv2.CV_64F,0,1, ksize=3)\n",
    "    I2y = cv2.Sobel(red,cv2.CV_64F,0,1, ksize=3)\n",
    "\n",
    "    return I0x,I1x,I2x,I0y,I1y,I2y\n"
   ]
  },
  {
   "cell_type": "code",
   "execution_count": 37,
   "metadata": {
    "pycharm": {
     "name": "#%%\n"
    }
   },
   "outputs": [],
   "source": [
    "def calcOpticalFlowLK_Multi_Channel(prevImg, nextImg, winSize = 39, threshD = 1e-9):\n",
    "    prevImg = prevImg/1.\n",
    "    nextImg = nextImg/1.\n",
    "\n",
    "    #PrevImgBlue,PrevImgGreen,PrevImgrRed = extractChannels(prevImg)\n",
    "    #NextImgBlue,NextImgGreen,NextImgrRed = extractChannels(prevImg)\n",
    "\n",
    "    #Calculate derivatives alond x and y\n",
    "\n",
    "    prevI0x,prevI1x,prevI2x,prevI0y,prevI1y,prevI2y = calcDerivativesForEachChannel(prevImg)\n",
    "    nextI0x,nextI1x,nextI2x,nextI0y,nextI1y,nextI2y = calcDerivativesForEachChannel(nextImg)\n",
    "\n",
    "\n",
    "    #compromise solution by the least squares principle\n",
    "\n",
    "    sigma1 = prevI0x**2 + prevI1x**2 + prevI2x**2+ nextI0x**2 +nextI1x**2 +nextI2x**2\n",
    "\n",
    "    sigma2 = sigma4 = prevI0x* prevI0y + prevI1x* prevI1y + prevI2x* prevI2y + nextI0x* nextI0y + nextI1x* nextI1y + nextI2x* nextI2y\n",
    "\n",
    "    sigma3 = (nextImg[:,:,0]-prevImg[:,:,0])*(prevI0x + nextI0x) + (nextImg[:,:,1]-prevImg[:,:,1])*(prevI1x + nextI1x)+ (nextImg[:,:,2]-prevImg[:,:,2])*(prevI2x + nextI2x)\n",
    "\n",
    "    sigma5 = prevI0y**2 + prevI1y**2 + prevI2y**2+ nextI0y**2 +nextI1y**2 +nextI2y**2\n",
    "    \n",
    "    sigma6 = (nextImg[:,:,0]-prevImg[:,:,0])*(prevI0y + nextI0y) + (nextImg[:,:,1]-prevImg[:,:,1])*(prevI1y + nextI1y)+ (nextImg[:,:,2]-prevImg[:,:,2])*(prevI2y + nextI2y)\n",
    "\n",
    "    sigma = [sigma1, sigma2, sigma3, sigma4, sigma5, sigma6]\n",
    "\n",
    "    for i in range(len(sigma)):\n",
    "        #apply average blurring\n",
    "        #sigma[i] = cv2.blur(sigma[i], (winSize, winSize))\n",
    "        #Gaussian blurring. The sigma determines the contribution of neighbours.\n",
    "        sigma[i] = cv2.GaussianBlur(sigma[i],(winSize, winSize),0)\n",
    "\n",
    "    #Use Cramer's rule to solve the equation\n",
    "\n",
    "    #Calculate determinant of the coefficients\n",
    "    D = sigma[1]**2 - sigma[0]*sigma[4]\n",
    "    D[np.abs(D) < threshD] = np.Inf\n",
    "\n",
    "\n",
    "    #Cramers rule\n",
    "    # https://pressbooks.bccampus.ca/algebraintermediate/chapter/solve-systems-of-equations-using-determinants/\n",
    "    # Replace the X coefficients with the constants and take the determinant \n",
    "    hx = (sigma[4]*sigma[2]-sigma[1]*sigma[5]) / D\n",
    "    # Replace the Y coefficients with the constants and take the determinant \n",
    "    hy = (sigma[1]*sigma[2]-sigma[0]*sigma[5]) / D\n",
    "\n",
    "    #length -> euclidean distance\n",
    "    arrow = np.sqrt(hx**2+hy**2)\n",
    "\n",
    "    return hx, -hy, arrow"
   ]
  },
  {
   "cell_type": "code",
   "execution_count": 38,
   "metadata": {
    "pycharm": {
     "name": "#%%\n"
    }
   },
   "outputs": [],
   "source": [
    "def getCoor(hx, hy, arrow, step = 20, percent = 0.1):\n",
    "    y, x= np.meshgrid(np.arange(0, hx.shape[0], step), np.arange(0, hx.shape[1], step))\n",
    "    coor = np.vstack((x.flatten(), y.flatten()))\n",
    "\n",
    "    arrow = arrow[y, x]\n",
    "    index = np.argsort(arrow.flatten())\n",
    "    coor = coor[:, index[int(-len(index)*percent):]]\n",
    "    return coor"
   ]
  },
  {
   "cell_type": "code",
   "execution_count": 39,
   "metadata": {
    "pycharm": {
     "name": "#%%\n"
    }
   },
   "outputs": [],
   "source": [
    "def drawArrow(img, hx, hy, coor, scale=50):\n",
    "    color = (0, 255, 255)\n",
    "    mask = np.zeros_like(img)\n",
    "    m = np.max((np.abs(hx), np.abs(hy)))\n",
    "    if m < 0.5:\n",
    "        scale /=0.5\n",
    "    for i in range(coor.shape[1]):\n",
    "        x1 = int(coor[0, i])\n",
    "        y1 = int(coor[1, i])\n",
    "        x2 = int(coor[0, i]+hx[y1, x1]*scale)\n",
    "        y2 = int(coor[1, i]+hy[y1, x1]*scale)\n",
    "        mask = cv2.line(mask, (x1, y1), (x2, y2), color, thickness=1)\n",
    "        mask = cv2.circle(mask,(x1,y1), 3, color, -1)\n",
    "    out = cv2.add(img, mask)\n",
    "    return out"
   ]
  },
  {
   "cell_type": "code",
   "execution_count": 40,
   "metadata": {
    "pycharm": {
     "name": "#%%\n"
    }
   },
   "outputs": [],
   "source": [
    "def run_color(prevImg, nextImg):\n",
    "    prevRGB = cv2.cvtColor(prevImg, cv2.COLOR_BGR2RGB)\n",
    "    nextRGB = cv2.cvtColor(nextImg, cv2.COLOR_BGR2RGB)\n",
    "    hx, hy, arrow= calcOpticalFlowLK_Multi_Channel(prevRGB, nextRGB)\n",
    "    coor = getCoor(hx, hy, arrow)\n",
    "    out = drawArrow(prevImg, hx, hy, coor)\n",
    "    return out"
   ]
  },
  {
   "cell_type": "code",
   "execution_count": 41,
   "metadata": {
    "pycharm": {
     "name": "#%%\n"
    }
   },
   "outputs": [],
   "source": [
    "def main_color(folder_name):\n",
    "    folder_in = 'dataset/other-data-color/'+folder_name+'/'\n",
    "    folder_out = 'results/result-other-color-LK/'+folder_name+'/'\n",
    "    if not os.path.exists(folder_out):\n",
    "        os.mkdir(folder_out)\n",
    "    files = os.listdir(folder_in)\n",
    "    files.sort()\n",
    "    for i in range(len(files)-1):\n",
    "        prevImg = cv2.imread(folder_in+files[i])\n",
    "        nextImg = cv2.imread(folder_in+files[i+1])\n",
    "        out = run_color(prevImg, nextImg)\n",
    "        cv2.imwrite(folder_out+str(i)+'.png', out)"
   ]
  },
  {
   "cell_type": "code",
   "execution_count": null,
   "metadata": {
    "pycharm": {
     "name": "#%%\n"
    }
   },
   "outputs": [],
   "source": []
  },
  {
   "cell_type": "code",
   "execution_count": 42,
   "metadata": {
    "pycharm": {
     "name": "#%%\n"
    }
   },
   "outputs": [],
   "source": [
    "def calc_all():\n",
    "    folders = [\"Army\",\"Backyard\",\"Basketball\",\"Dumptruck\",\"Evergreen\",\"Grove\",\"Mequon\",\"Schefflera\",\"Teddy\",\"Urban\",\"Wooden\",\"Yosemite\"]\n",
    "    for folder in folders:\n",
    "        main_color(folder)\n",
    "        print(folder +\": Succesfully calcualted optical flow\")"
   ]
  },
  {
   "cell_type": "code",
   "execution_count": 43,
   "metadata": {
    "pycharm": {
     "name": "#%%\n"
    }
   },
   "outputs": [],
   "source": [
    "#calc_all()"
   ]
  },
  {
   "cell_type": "code",
   "execution_count": 44,
   "metadata": {},
   "outputs": [],
   "source": [
    "def calc_all_other():\n",
    "    folders = [\"Beanbags\",\"Dimetrodon\",\"DogDance\",\"Grove2\",\"Grove3\",\"Hydrangea\",\"MiniCooper\",\"RubberWhale\",\"Urban2\",\"Urban3\",\"Venus\",\"Walking\"]\n",
    "    for folder in folders:\n",
    "        main_color(folder)\n",
    "        print(folder +\": Succesfully calcualted optical flow\")"
   ]
  },
  {
   "cell_type": "code",
   "execution_count": 45,
   "metadata": {},
   "outputs": [],
   "source": [
    "#calc_all_other()"
   ]
  },
  {
   "cell_type": "code",
   "execution_count": 46,
   "metadata": {
    "pycharm": {
     "name": "#%%\n"
    }
   },
   "outputs": [],
   "source": [
    "def video(infile, outfile = 'MultiChannel_result.avi'):\n",
    "    assert os.path.exists(infile), \"video doesn't exist\"\n",
    "    cap = cv2.VideoCapture(infile)\n",
    "    fps = cap.get(cv2.CAP_PROP_FPS)\n",
    "    width = cap.get(cv2.CAP_PROP_FRAME_WIDTH)\n",
    "    height = cap.get(cv2.CAP_PROP_FRAME_HEIGHT)\n",
    "    fourcc = cv2.VideoWriter_fourcc('M','J','P','G')\n",
    "    out_video = cv2.VideoWriter(outfile, fourcc, fps, (int(width), int(height)))\n",
    "    _, old_frame = cap.read()\n",
    "    while 1:\n",
    "        ret, frame = cap.read()\n",
    "        if ret:\n",
    "            out = run_color(old_frame, frame)\n",
    "            cv2.imshow('frame', out)\n",
    "            out_video.write(out)\n",
    "        else: break\n",
    "        old_frame = frame\n",
    "    cv2.destroyAllWindows()\n",
    "    out_video.release()\n",
    "    cap.release()"
   ]
  },
  {
   "cell_type": "code",
   "execution_count": 47,
   "metadata": {
    "pycharm": {
     "name": "#%%\n"
    }
   },
   "outputs": [],
   "source": [
    "#video(\"/Users/xavierverbrugge/Documents/School/Master/2e Master/1 SEM/Computer Vision/Assignment 2/Forest_15_3b_Videvo.mov\")"
   ]
  },
  {
   "cell_type": "code",
   "execution_count": 48,
   "metadata": {},
   "outputs": [],
   "source": [
    "from src.representation.colorwhele import visualize_flow"
   ]
  },
  {
   "cell_type": "code",
   "execution_count": 49,
   "metadata": {},
   "outputs": [],
   "source": [
    "def calc_all_flow():\n",
    "    folders = [\"Beanbags\",\"Dimetrodon\",\"DogDance\",\"Grove2\",\"Grove3\",\"Hydrangea\",\"MiniCooper\",\"RubberWhale\",\"Urban2\",\"Urban3\",\"Venus\",\"Walking\"]\n",
    "    for folder in folders:\n",
    "        prevImg= cv2.imread(\"dataset/other-data-color/\"+folder+\"/frame10.png\")\n",
    "        nextImg= cv2.imread(\"dataset/other-data-color/\"+folder+\"/frame11.png\")\n",
    "        prevRGB = cv2.cvtColor(prevImg, cv2.COLOR_BGR2RGB)\n",
    "        nextRGB = cv2.cvtColor(nextImg, cv2.COLOR_BGR2RGB)\n",
    "        hx, hy, arrow= calcOpticalFlowLK_Multi_Channel(prevRGB, nextRGB)\n",
    "        print(folder +\": Succesfully calcualted optical flow\")\n",
    "        out = visualize_flow(u = hx,v =hy)\n",
    "        folder_out = 'results/result-other-color-LK/'+folder+'/'\n",
    "        cv2.imwrite(folder_out+str(folder)+'-colorwheel.png', out)"
   ]
  },
  {
   "cell_type": "code",
   "execution_count": 50,
   "metadata": {},
   "outputs": [],
   "source": [
    "def calc():\n",
    "    folders = [\"Dimetrodon\",\"Grove2\",\"Grove3\",\"Hydrangea\",\"RubberWhale\",\"Urban2\",\"Urban3\",\"Venus\"]\n",
    "    #folders = [\"RubberWhale\",\"Urban2\",\"Urban3\",\"Venus\"]\n",
    "\n",
    "    for folder in folders:\n",
    "        prevImg= cv2.imread(\"dataset/other-data-color/\"+folder+\"/frame10.png\")\n",
    "        nextImg= cv2.imread(\"dataset/other-data-color/\"+folder+\"/frame11.png\")\n",
    "        prevRGB = cv2.cvtColor(prevImg, cv2.COLOR_BGR2RGB)\n",
    "        nextRGB = cv2.cvtColor(nextImg, cv2.COLOR_BGR2RGB)\n",
    "        hx, hy, arrow= calcOpticalFlowLK_Multi_Channel(prevRGB, nextRGB) \n",
    "        print(folder +\": Succesfully calcualted optical flow\")\n",
    "        out = visualize_flow(u = hx, v = hy)\n",
    "        cv2.imshow(\"out\",out)\n",
    "        folder_out = 'results/result-other-color-LK/'+folder+'/'\n",
    "        cv2.imwrite(folder_out+str(folder)+'-colorwheel.png', out)\n",
    "\n",
    "        #Replace Nan's\n",
    "        u = np.nan_to_num(hx)\n",
    "        v = np.nan_to_num(hy)\n",
    "\n",
    "        #Save the flow\n",
    "        #np.savetxt('results/results-other-color-pyramid-flow/'+folder+'-U.txt', u , fmt='%d')\n",
    "        #np.savetxt('results/results-other-color-pyramid-flow/'+folder+'-V.txt', v , fmt='%d')\n",
    "\n",
    "        #Calculate statistics\n",
    "        mepe, sdEpe = calc_MEPE_directory(folder, u = u, v = v)\n",
    "        print(\"The Average End Point Error for \"+folder+ \" is: \" + str(mepe)+\" and the standard deviation is: \"+str(sdEpe))\n",
    "\n",
    "        mang, sdAngular = calc_AAE_directory(folder, u= u, v = v)\n",
    "\n",
    "        print(\"The Average Angular error for \"+folder+ \" is: \" + str(mang)+\" and the standard deviation is: \"+str(sdAngular))#calc_all_flow()"
   ]
  },
  {
   "cell_type": "code",
   "execution_count": 51,
   "metadata": {},
   "outputs": [
    {
     "name": "stdout",
     "output_type": "stream",
     "text": [
      "Dimetrodon: Succesfully calcualted optical flow\n",
      "The Average End Point Error for Dimetrodon is: 1.95 and the standard deviation is: 0.71\n",
      "The Average Angular error for Dimetrodon is: 0.55 and the standard deviation is: 0.13\n",
      "Grove2: Succesfully calcualted optical flow\n",
      "The Average End Point Error for Grove2 is: 3.03 and the standard deviation is: 0.5\n",
      "The Average Angular error for Grove2 is: 0.37 and the standard deviation is: 0.06\n",
      "Grove3: Succesfully calcualted optical flow\n",
      "The Average End Point Error for Grove3 is: 3.84 and the standard deviation is: 2.31\n",
      "The Average Angular error for Grove3 is: 0.39 and the standard deviation is: 0.21\n",
      "Hydrangea: Succesfully calcualted optical flow\n",
      "The Average End Point Error for Hydrangea is: 3.65 and the standard deviation is: 1.17\n",
      "The Average Angular error for Hydrangea is: 0.36 and the standard deviation is: 0.14\n",
      "RubberWhale: Succesfully calcualted optical flow\n",
      "The Average End Point Error for RubberWhale is: 1.13 and the standard deviation is: 0.49\n",
      "The Average Angular error for RubberWhale is: 0.73 and the standard deviation is: 0.11\n",
      "Urban2: Succesfully calcualted optical flow\n",
      "The Average End Point Error for Urban2 is: 8.32 and the standard deviation is: 8.1\n",
      "The Average Angular error for Urban2 is: 0.39 and the standard deviation is: 0.29\n",
      "Urban3: Succesfully calcualted optical flow\n",
      "The Average End Point Error for Urban3 is: 7.22 and the standard deviation is: 4.39\n",
      "The Average Angular error for Urban3 is: 0.27 and the standard deviation is: 0.15\n",
      "Venus: Succesfully calcualted optical flow\n",
      "The Average End Point Error for Venus is: 3.74 and the standard deviation is: 1.78\n",
      "The Average Angular error for Venus is: 0.38 and the standard deviation is: 0.17\n"
     ]
    }
   ],
   "source": [
    "calc()"
   ]
  },
  {
   "cell_type": "code",
   "execution_count": 14,
   "metadata": {},
   "outputs": [],
   "source": [
    "# Testing\n",
    "#prevImg= cv2.imread(\"dataset/other-data-color/RubberWhale/frame10.png\")\n",
    "#nextImg= cv2.imread(\"dataset/other-data-color/RubberWhale/frame11.png\")\n",
    "#prevRGB = cv2.cvtColor(prevImg, cv2.COLOR_BGR2RGB)\n",
    "#nextRGB = cv2.cvtColor(nextImg, cv2.COLOR_BGR2RGB)\n",
    "#hx, hy, arrow= calcOpticalFlowLK_Multi_Channel(prevRGB, nextRGB)\n",
    "#visualize_flow(u = hx,v =hy)"
   ]
  },
  {
   "cell_type": "code",
   "execution_count": null,
   "metadata": {},
   "outputs": [],
   "source": []
  },
  {
   "cell_type": "code",
   "execution_count": null,
   "metadata": {},
   "outputs": [],
   "source": [
    "import cv2 as cv\n",
    "cap = cv.VideoCapture(\"/Users/xavierverbrugge/Documents/School/Master/2e Master/1 SEM/Computer Vision/Assignment 2/Forest_15_3b_Videvo.mov\")\n",
    "print(cap)"
   ]
  }
 ],
 "metadata": {
  "kernelspec": {
   "display_name": "Python 3 (ipykernel)",
   "language": "python",
   "name": "python3"
  },
  "language_info": {
   "codemirror_mode": {
    "name": "ipython",
    "version": 3
   },
   "file_extension": ".py",
   "mimetype": "text/x-python",
   "name": "python",
   "nbconvert_exporter": "python",
   "pygments_lexer": "ipython3",
   "version": "3.9.15"
  }
 },
 "nbformat": 4,
 "nbformat_minor": 1
}