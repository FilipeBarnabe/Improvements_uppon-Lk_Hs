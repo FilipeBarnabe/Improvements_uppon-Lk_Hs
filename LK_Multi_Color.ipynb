{
 "cells": [
  {
   "cell_type": "code",
   "execution_count": null,
   "metadata": {
    "collapsed": true
   },
   "outputs": [],
   "source": [
    "# Sources Multi Color:\n",
    "#https://www.dca.ufrn.br/~adelardo/artigos/SAC08.pdf\n",
    "\n",
    "#Sources Robust Estimation:\n",
    "#https://github.com/jakecerwin/LucasKanade/blob/d8631ac88b8836b80e596ec298f6a5516fafd1c1/LucasKanade_Pyramid.py\n",
    "import cv2 as cv"
   ]
  },
  {
   "cell_type": "code",
   "execution_count": null,
   "outputs": [],
   "source": [],
   "metadata": {
    "collapsed": false,
    "pycharm": {
     "name": "#%%\n"
    }
   }
  }
 ],
 "metadata": {
  "kernelspec": {
   "display_name": "Python 3",
   "language": "python",
   "name": "python3"
  },
  "language_info": {
   "codemirror_mode": {
    "name": "ipython",
    "version": 2
   },
   "file_extension": ".py",
   "mimetype": "text/x-python",
   "name": "python",
   "nbconvert_exporter": "python",
   "pygments_lexer": "ipython2",
   "version": "2.7.6"
  }
 },
 "nbformat": 4,
 "nbformat_minor": 0
}