{
 "cells": [
  {
   "cell_type": "code",
   "execution_count": null,
   "outputs": [],
   "source": [
    "import cv2\n",
    "import numpy as np\n",
    "from matplotlib import pyplot as plt"
   ],
   "metadata": {
    "collapsed": false,
    "pycharm": {
     "name": "#%%\n"
    }
   }
  },
  {
   "cell_type": "code",
   "execution_count": null,
   "outputs": [],
   "source": [
    "def compareGraphs(imgOld, imgNew, POI, V):\n",
    "    plt.imshow(imgNew,cmap = 'gray')\n",
    "    # plt.scatter(POI[:,0,1],POI[:,0,0])\n",
    "    for i in range(len(POI)):\n",
    "        plt.arrow(POI[i,0,1],POI[i,0,0],V[i,1]*1,V[i,0]*1, color = 'red')\n",
    "    # plt.arrow(POI[:,0,0],POI[:,0,1],0,-5)\n",
    "    plt.show()"
   ],
   "metadata": {
    "collapsed": false,
    "pycharm": {
     "name": "#%%\n"
    }
   }
  },
  {
   "cell_type": "code",
   "execution_count": null,
   "outputs": [],
   "source": [
    "def buildA(img, centerX, centerY, kernelSize):\n",
    "    #build a kernel containing pixel intensities\n",
    "    #im_rgb = cv2.cvtColor(img, cv2.COLOR_BGR2RGB)\n",
    "    print(CenterX)\n",
    "\n",
    "    mean = kernelSize//2\n",
    "    count = 0\n",
    "    home = img[centerY, centerX] #storing the intensity of the center pixel\n",
    "    A = np.zeros([kernelSize**2, 2])\n",
    "    for j in range(-mean,mean+1): #advance the y\n",
    "        for i in range(-mean,mean+1): #advance the x\n",
    "            if i == 0:\n",
    "                Ax = 0\n",
    "            else:\n",
    "                Ax = (home - img[centerY+j, centerX+i])/i\n",
    "                #Ax_red = (home - im_rgb[centerY+j, centerX+i, 0])/i\n",
    "                #Ax_green = (home - im_rgb[centerY+j, centerX+i, 1])/i\n",
    "                #Ax_blue = (home - im_rgb[centerY+j, centerX+i, 2])/i\n",
    "\n",
    "            if j == 0:\n",
    "                Ay = 0\n",
    "            else:\n",
    "                Ay = (home - img[centerY+j, centerX+i])/j\n",
    "                #Ay_red = (home - im_rgb[centerY+j, centerX+i, 0])/j\n",
    "                #Ay_green = (home - im_rgb[centerY+j, centerX+i, 1])/j\n",
    "                #Ay_blue = (home - im_rgb[centerY+j, centerX+i, 2])/j\n",
    "            #write to A\n",
    "            A[count] = np.array([Ay, Ax])\n",
    "            #A[count] = np.array([np.array(Ax_red,Ax_green,Ax_blue), np.array(Ay_red,Ay_green,Ay_blue)])\n",
    "            count += 1\n",
    "    # print np.linalg.norm(A)\n",
    "    return A"
   ],
   "metadata": {
    "collapsed": false,
    "pycharm": {
     "name": "#%%\n"
    }
   }
  },
  {
   "cell_type": "code",
   "execution_count": null,
   "outputs": [],
   "source": [
    "def buildB(imgNew, imgOld, centerX, centerY, kernelSize):\n",
    "    mean = kernelSize//2\n",
    "    count = 0\n",
    "    home = imgNew[centerY, centerX]\n",
    "\n",
    "    B = np.zeros([kernelSize**2])\n",
    "    for j in range(-mean,mean+1):\n",
    "        for i in range(-mean,mean+1):\n",
    "            Bt = imgNew[centerY+j,centerX+i] - imgOld[centerY+j,centerX+i]\n",
    "            B[count] = Bt\n",
    "            count += 1\n",
    "    # print np.linalg.norm(B)\n",
    "    return B"
   ],
   "metadata": {
    "collapsed": false,
    "pycharm": {
     "name": "#%%\n"
    }
   }
  },
  {
   "cell_type": "code",
   "execution_count": null,
   "outputs": [],
   "source": [
    "def gaussianWeight(kernelSize, even=False):\n",
    "    if even == True:\n",
    "        weight = np.ones([kernelSize,kernelSize])\n",
    "        weight = weight.reshape((1,kernelSize**2))\n",
    "        weight = np.array(weight)[0]\n",
    "        weight = np.diag(weight)\n",
    "        return weight\n",
    "    SIGMA = 1 #the standard deviation of your normal curve\n",
    "    CORRELATION = 0 #see wiki for multivariate normal distributions\n",
    "    weight = np.zeros([kernelSize,kernelSize])\n",
    "    cpt = kernelSize%2+kernelSize//2 #gets the center point\n",
    "    for i in range(len(weight)):\n",
    "        for j in range(len(weight)):\n",
    "            ptx = i + 1\n",
    "            pty = j + 1\n",
    "            weight[i,j] = 1/(2*np.pi*SIGMA**2)/(1-CORRELATION**2)**.5*np.exp(-1/(2*(1-CORRELATION**2))*((ptx-cpt)**2+(pty-cpt)**2)/(SIGMA**2))\n",
    "        # weight[i,j] = 1/SIGMA/(2*np.pi)**.5*np.exp(-(pt-cpt)**2/(2*SIGMA**2))\n",
    "    weight = weight.reshape((1,kernelSize**2))\n",
    "    weight = np.array(weight)[0] #convert to a 1D array\n",
    "    weight = np.diag(weight) #convert to n**2xn**2 diagonal matrix\n",
    "    return weight\n",
    "# return np.diag(weight)\n"
   ],
   "metadata": {
    "collapsed": false,
    "pycharm": {
     "name": "#%%\n"
    }
   }
  },
  {
   "cell_type": "code",
   "execution_count": null,
   "outputs": [],
   "source": [
    "def getPOI(xSize, ySize, kernelSize):\n",
    "    mean = kernelSize//2\n",
    "    xPos = mean\n",
    "    yPos = mean\n",
    "    xStep = (xSize-mean)//kernelSize\n",
    "    yStep = (ySize-mean)//kernelSize\n",
    "    length = xStep*yStep\n",
    "    POI = np.zeros([length,1,2])\n",
    "    count = 0\n",
    "    for i in range(yStep):\n",
    "        for j in range(xStep):\n",
    "            POI[count,0,1] = xPos\n",
    "            POI[count,0,0] = yPos\n",
    "            xPos += kernelSize\n",
    "            count += 1\n",
    "        xPos = mean\n",
    "        yPos += kernelSize\n",
    "    return POI"
   ],
   "metadata": {
    "collapsed": false,
    "pycharm": {
     "name": "#%%\n"
    }
   }
  },
  {
   "cell_type": "code",
   "execution_count": null,
   "outputs": [],
   "source": [
    "def LK():\n",
    "    KERNEL = 5 #must be odd/\n",
    "    FILTER = 7\n",
    "\n",
    "    #get your first image\n",
    "    count = 0\n",
    "    directory = 'box/box.'\n",
    "    # directory = 'office/office.'\n",
    "    #directory = 'rubic/rubic.'\n",
    "    #directory = 'sphere/sphere.'\n",
    "    fileName = directory + str(count) + '.bmp'\n",
    "    imgOld = cv2.imread(fileName,0)\n",
    "    cv2.imshow(\"Example\",imgOld)\n",
    "    imgOld = cv2.GaussianBlur(imgOld,(FILTER,FILTER),1)\n",
    "    cv2.imshow(\"Example\",imgOld)\n",
    "\n",
    "    #evaluate the first frame's POI\n",
    "    POI = getPOI(200,200,KERNEL)\n",
    "\n",
    "    #get the weights\n",
    "    W = gaussianWeight(KERNEL)\n",
    "\n",
    "    #loop until no pictures are available\n",
    "    while True:\n",
    "        #load the next image\n",
    "        count += 1\n",
    "        imgNew = cv2.imread(directory + str(count) + '.bmp',0)\n",
    "        imgNew = cv2.GaussianBlur(imgNew,(FILTER,FILTER),1)\n",
    "        try:\n",
    "            if imgNew.any():\n",
    "                # print 'it exists'\n",
    "                pass\n",
    "        except:\n",
    "            # print 'it doesnt exist'\n",
    "            print('count is' + str(count))\n",
    "            break\n",
    "\n",
    "        #evaluate every POI\n",
    "        V = np.zeros([(POI.shape)[0],2])\n",
    "        for i in range(len(POI)):\n",
    "            A = buildA(imgNew, POI[i][0][1], POI[i][0][0], KERNEL)\n",
    "            B = buildB(imgNew, imgOld, POI[i][0][1], POI[i][0][0], KERNEL)\n",
    "\n",
    "            #solve for v\n",
    "            try:\n",
    "                Vpt = np.matrix((A.T).dot(W**2).dot(A)).I.dot(A.T).dot(W**2).dot(B)\n",
    "                # print Vpt\n",
    "                V[i,0] = Vpt[0,0]\n",
    "                V[i,1] = Vpt[0,1]\n",
    "            except:\n",
    "                pass\n",
    "\n",
    "        #all done, evaluate the image\n",
    "        compareGraphs(imgOld,imgNew, POI, V)\n",
    "\n",
    "        #if we don't want to loop several times\n",
    "        if count == 1:\n",
    "            break\n",
    "\n",
    "        #update lists\n",
    "        imgOld = imgNew\n",
    "        POI = getPOI(200,200,KERNEL)"
   ],
   "metadata": {
    "collapsed": false,
    "pycharm": {
     "name": "#%%\n"
    }
   }
  },
  {
   "cell_type": "code",
   "execution_count": null,
   "outputs": [],
   "source": [
    "LK()"
   ],
   "metadata": {
    "collapsed": false,
    "pycharm": {
     "name": "#%%\n"
    }
   }
  },
  {
   "cell_type": "code",
   "execution_count": null,
   "outputs": [],
   "source": [
    "\n"
   ],
   "metadata": {
    "collapsed": false,
    "pycharm": {
     "name": "#%%\n"
    }
   }
  }
 ],
 "metadata": {
  "kernelspec": {
   "display_name": "Python 3",
   "language": "python",
   "name": "python3"
  },
  "language_info": {
   "codemirror_mode": {
    "name": "ipython",
    "version": 2
   },
   "file_extension": ".py",
   "mimetype": "text/x-python",
   "name": "python",
   "nbconvert_exporter": "python",
   "pygments_lexer": "ipython2",
   "version": "2.7.6"
  },
  "pycharm": {
   "stem_cell": {
    "cell_type": "raw",
    "source": [
     "#%\n",
     "\n",
     "# Sources Multi Color:\n",
     "#https://www.dca.ufrn.br/~adelardo/artigos/SAC08.pdf\n",
     "\n",
     "Find source code of LK. Change the step where Error is calculated for the unknown Optical flow variables.\n",
     "Change Error to the sum of \n",
     "\n",
     "#Sources Robust Estimation:\n",
     "#https://github.com/jakecerwin/LucasKanade/blob/d8631ac88b8836b80e596ec298f6a5516fafd1c1/LucasKanade_Pyramid.py\n",
     "import cv2 as cv\n"
    ],
    "metadata": {
     "collapsed": false
    }
   }
  }
 },
 "nbformat": 4,
 "nbformat_minor": 0
}