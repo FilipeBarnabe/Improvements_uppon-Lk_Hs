{
 "cells": [
  {
   "cell_type": "code",
   "execution_count": 68,
   "metadata": {
    "pycharm": {
     "name": "#%%\n"
    }
   },
   "outputs": [],
   "source": [
    "\n",
    "import numpy as np\n",
    "import matplotlib.colors as cl\n",
    "import matplotlib.pyplot as plt\n",
    "from PIL import Image\n",
    "import cv2\n",
    "from LK import *\n",
    "from ipynb.fs.full.LK import *\n",
    "\n",
    "UNKNOWN_FLOW_THRESH = 1e7\n",
    "SMALLFLOW = 0.0\n",
    "LARGEFLOW = 1e8"
   ]
  },
  {
   "cell_type": "code",
   "execution_count": null,
   "metadata": {},
   "outputs": [],
   "source": []
  },
  {
   "cell_type": "code",
   "execution_count": 51,
   "metadata": {
    "pycharm": {
     "name": "#%%\n"
    }
   },
   "outputs": [],
   "source": [
    "\"\"\"\n",
    "=============\n",
    "Flow Section\n",
    "=============\n",
    "\"\"\"\n",
    "def show_flow(filename):\n",
    "    \"\"\"\n",
    "    visualize optical flow map using matplotlib\n",
    "    :param filename: optical flow file\n",
    "    :return: None\n",
    "    \"\"\"\n",
    "    flow = read_flow(filename)\n",
    "    img = flow_to_image(flow)\n",
    "    plt.imshow(img)\n",
    "    plt.show()"
   ]
  },
  {
   "cell_type": "code",
   "execution_count": 52,
   "metadata": {
    "pycharm": {
     "name": "#%%\n"
    }
   },
   "outputs": [],
   "source": []
  },
  {
   "cell_type": "code",
   "execution_count": 53,
   "metadata": {
    "pycharm": {
     "name": "#%%\n"
    }
   },
   "outputs": [],
   "source": []
  },
  {
   "cell_type": "code",
   "execution_count": 56,
   "metadata": {
    "pycharm": {
     "name": "#%%\n"
    }
   },
   "outputs": [],
   "source": [
    "def save_flow_image(flow, image_file):\n",
    "    \"\"\"\n",
    "    save flow visualization into image file\n",
    "    :param flow: optical flow data\n",
    "    :param flow_fil\n",
    "    :return: None\n",
    "    \"\"\"\n",
    "    flow_img = flow_to_image(flow)\n",
    "    img_out = Image.fromarray(flow_img)\n",
    "    img_out.save(image_file)"
   ]
  },
  {
   "cell_type": "code",
   "execution_count": 57,
   "metadata": {
    "pycharm": {
     "name": "#%%\n"
    }
   },
   "outputs": [],
   "source": [
    "def flowfile_to_imagefile(flow_file, image_file):\n",
    "    \"\"\"\n",
    "    convert flowfile into image file\n",
    "    :param flow: optical flow data\n",
    "    :param flow_fil\n",
    "    :return: None\n",
    "    \"\"\"\n",
    "    flow = read_flow(flow_file)\n",
    "    save_flow_image(flow, image_file)"
   ]
  },
  {
   "cell_type": "code",
   "execution_count": 58,
   "metadata": {
    "pycharm": {
     "name": "#%%\n"
    }
   },
   "outputs": [],
   "source": [
    "def segment_flow(flow):\n",
    "    h = flow.shape[0]\n",
    "    w = flow.shape[1]\n",
    "    u = flow[:, :, 0]\n",
    "    v = flow[:, :, 1]\n",
    "\n",
    "    idx = ((abs(u) > LARGEFLOW) | (abs(v) > LARGEFLOW))\n",
    "    idx2 = (abs(u) == SMALLFLOW)\n",
    "    class0 = (v == 0) & (u == 0)\n",
    "    u[idx2] = 0.00001\n",
    "    tan_value = v / u\n",
    "\n",
    "    class1 = (tan_value < 1) & (tan_value >= 0) & (u > 0) & (v >= 0)\n",
    "    class2 = (tan_value >= 1) & (u >= 0) & (v >= 0)\n",
    "    class3 = (tan_value < -1) & (u <= 0) & (v >= 0)\n",
    "    class4 = (tan_value < 0) & (tan_value >= -1) & (u < 0) & (v >= 0)\n",
    "    class8 = (tan_value >= -1) & (tan_value < 0) & (u > 0) & (v <= 0)\n",
    "    class7 = (tan_value < -1) & (u >= 0) & (v <= 0)\n",
    "    class6 = (tan_value >= 1) & (u <= 0) & (v <= 0)\n",
    "    class5 = (tan_value >= 0) & (tan_value < 1) & (u < 0) & (v <= 0)\n",
    "\n",
    "    seg = np.zeros((h, w))\n",
    "\n",
    "    seg[class1] = 1\n",
    "    seg[class2] = 2\n",
    "    seg[class3] = 3\n",
    "    seg[class4] = 4\n",
    "    seg[class5] = 5\n",
    "    seg[class6] = 6\n",
    "    seg[class7] = 7\n",
    "    seg[class8] = 8\n",
    "    seg[class0] = 0\n",
    "    seg[idx] = 0\n",
    "\n",
    "    return seg"
   ]
  },
  {
   "cell_type": "code",
   "execution_count": 59,
   "metadata": {},
   "outputs": [],
   "source": [
    "def read_flo_file(filename, verbose=False):\n",
    "    \"\"\"\n",
    "    Read from .flo optical flow file (Middlebury format)\n",
    "    :param flow_file: name of the flow file\n",
    "    :return: optical flow data in matrix\n",
    "    adapted from https://github.com/liruoteng/OpticalFlowToolkit/\n",
    "    \"\"\"\n",
    "    f = open(filename, 'rb')\n",
    "    magic = np.fromfile(f, np.float32, count=1)\n",
    "    data2d = None\n",
    "\n",
    "    if 202021.25 != magic:\n",
    "        raise TypeError('Magic number incorrect. Invalid .flo file')\n",
    "    else:\n",
    "        w = np.fromfile(f, np.int32, count=1)\n",
    "        h = np.fromfile(f, np.int32, count=1)\n",
    "        if verbose:\n",
    "            print(\"Reading %d x %d flow file in .flo format\" % (h, w))\n",
    "        data2d = np.fromfile(f, np.float32, count=int(2 * w * h))\n",
    "        # reshape data into 3D array (columns, rows, channels)\n",
    "        data2d = np.resize(data2d, (h[0], w[0], 2))\n",
    "    f.close()\n",
    "    return data2d"
   ]
  },
  {
   "cell_type": "code",
   "execution_count": 60,
   "metadata": {},
   "outputs": [],
   "source": [
    "flow = read_flo_file(\"/Users/xavierverbrugge/Documents/School/Master/2e Master/1 SEM/other-gt-flow/Dimetrodon/flow10.flo\")"
   ]
  },
  {
   "cell_type": "code",
   "execution_count": 65,
   "metadata": {},
   "outputs": [],
   "source": [
    "tu = flow[:, :, 0]\n",
    "tv = flow[:, :, 1]"
   ]
  },
  {
   "cell_type": "code",
   "execution_count": 62,
   "metadata": {
    "pycharm": {
     "name": "#%%\n"
    }
   },
   "outputs": [],
   "source": [
    "def flow_error(tu, tv, u, v):\n",
    "    \"\"\"\n",
    "    Calculate average end point error\n",
    "    :param tu: ground-truth horizontal flow map\n",
    "    :param tv: ground-truth vertical flow map\n",
    "    :param u:  estimated horizontal flow map\n",
    "    :param v:  estimated vertical flow map\n",
    "    :return: End point error of the estimated flow\n",
    "    \"\"\"\n",
    "    smallflow = 0.0\n",
    "    '''\n",
    "    stu = tu[bord+1:end-bord,bord+1:end-bord]\n",
    "    stv = tv[bord+1:end-bord,bord+1:end-bord]\n",
    "    su = u[bord+1:end-bord,bord+1:end-bord]\n",
    "    sv = v[bord+1:end-bord,bord+1:end-bord]\n",
    "    '''\n",
    "    stu = tu[:]\n",
    "    stv = tv[:]\n",
    "    su = u[:]\n",
    "    sv = v[:]\n",
    "\n",
    "    idxUnknow = (abs(stu) > UNKNOWN_FLOW_THRESH) | (abs(stv) > UNKNOWN_FLOW_THRESH)\n",
    "    stu[idxUnknow] = 0\n",
    "    stv[idxUnknow] = 0\n",
    "    su[idxUnknow] = 0\n",
    "    sv[idxUnknow] = 0\n",
    "\n",
    "    ind2 = [(np.absolute(stu) > smallflow) | (np.absolute(stv) > smallflow)]\n",
    "    index_su = su[tuple(ind2)]\n",
    "    index_sv = sv[tuple(ind2)]\n",
    "    an = 1.0 / np.sqrt(index_su ** 2 + index_sv ** 2 + 1)\n",
    "    un = index_su * an\n",
    "    vn = index_sv * an\n",
    "\n",
    "    index_stu = stu[tuple(ind2)]\n",
    "    index_stv = stv[tuple(ind2)]\n",
    "    tn = 1.0 / np.sqrt(index_stu ** 2 + index_stv ** 2 + 1)\n",
    "    tun = index_stu * tn\n",
    "    tvn = index_stv * tn\n",
    "\n",
    "    '''\n",
    "    angle = un * tun + vn * tvn + (an * tn)\n",
    "    index = [angle == 1.0]\n",
    "    angle[index] = 0.999\n",
    "    ang = np.arccos(angle)\n",
    "    mang = np.mean(ang)\n",
    "    mang = mang * 180 / np.pi\n",
    "    '''\n",
    "\n",
    "    epe = np.sqrt((stu - su) ** 2 + (stv - sv) ** 2)\n",
    "    epe = epe[tuple(ind2)]\n",
    "    mepe = np.mean(epe)\n",
    "    return mepe"
   ]
  },
  {
   "cell_type": "code",
   "execution_count": 69,
   "metadata": {
    "pycharm": {
     "name": "#%%"
    }
   },
   "outputs": [],
   "source": [
    "prevImg = cv2.imread(\"/Users/xavierverbrugge/Downloads/other-data/Dimetrodon/frame10.png\")\n",
    "NextImg = cv2.imread(\"/Users/xavierverbrugge/Downloads/other-data/Dimetrodon/frame11.png\")\n",
    "u, v, arrow = calcOpticalFlowLK(prevImg,NextImg)\n"
   ]
  },
  {
   "cell_type": "code",
   "execution_count": 70,
   "metadata": {},
   "outputs": [
    {
     "ename": "ValueError",
     "evalue": "operands could not be broadcast together with shapes (388,584) (388,584,3) ",
     "output_type": "error",
     "traceback": [
      "\u001B[0;31m---------------------------------------------------------------------------\u001B[0m",
      "\u001B[0;31mValueError\u001B[0m                                Traceback (most recent call last)",
      "\u001B[0;32m/var/folders/x4/pvzbl7451r5g04gn1h_6pdbm0000gn/T/ipykernel_21733/1383288015.py\u001B[0m in \u001B[0;36m<module>\u001B[0;34m\u001B[0m\n\u001B[0;32m----> 1\u001B[0;31m \u001B[0mflow_error\u001B[0m\u001B[0;34m(\u001B[0m\u001B[0mtu\u001B[0m\u001B[0;34m,\u001B[0m \u001B[0mtv\u001B[0m\u001B[0;34m,\u001B[0m \u001B[0mu\u001B[0m\u001B[0;34m,\u001B[0m \u001B[0mv\u001B[0m\u001B[0;34m)\u001B[0m\u001B[0;34m\u001B[0m\u001B[0;34m\u001B[0m\u001B[0m\n\u001B[0m",
      "\u001B[0;32m/var/folders/x4/pvzbl7451r5g04gn1h_6pdbm0000gn/T/ipykernel_21733/3316742303.py\u001B[0m in \u001B[0;36mflow_error\u001B[0;34m(tu, tv, u, v)\u001B[0m\n\u001B[1;32m     48\u001B[0m     '''\n\u001B[1;32m     49\u001B[0m \u001B[0;34m\u001B[0m\u001B[0m\n\u001B[0;32m---> 50\u001B[0;31m     \u001B[0mepe\u001B[0m \u001B[0;34m=\u001B[0m \u001B[0mnp\u001B[0m\u001B[0;34m.\u001B[0m\u001B[0msqrt\u001B[0m\u001B[0;34m(\u001B[0m\u001B[0;34m(\u001B[0m\u001B[0mstu\u001B[0m \u001B[0;34m-\u001B[0m \u001B[0msu\u001B[0m\u001B[0;34m)\u001B[0m \u001B[0;34m**\u001B[0m \u001B[0;36m2\u001B[0m \u001B[0;34m+\u001B[0m \u001B[0;34m(\u001B[0m\u001B[0mstv\u001B[0m \u001B[0;34m-\u001B[0m \u001B[0msv\u001B[0m\u001B[0;34m)\u001B[0m \u001B[0;34m**\u001B[0m \u001B[0;36m2\u001B[0m\u001B[0;34m)\u001B[0m\u001B[0;34m\u001B[0m\u001B[0;34m\u001B[0m\u001B[0m\n\u001B[0m\u001B[1;32m     51\u001B[0m     \u001B[0mepe\u001B[0m \u001B[0;34m=\u001B[0m \u001B[0mepe\u001B[0m\u001B[0;34m[\u001B[0m\u001B[0mtuple\u001B[0m\u001B[0;34m(\u001B[0m\u001B[0mind2\u001B[0m\u001B[0;34m)\u001B[0m\u001B[0;34m]\u001B[0m\u001B[0;34m\u001B[0m\u001B[0;34m\u001B[0m\u001B[0m\n\u001B[1;32m     52\u001B[0m     \u001B[0mmepe\u001B[0m \u001B[0;34m=\u001B[0m \u001B[0mnp\u001B[0m\u001B[0;34m.\u001B[0m\u001B[0mmean\u001B[0m\u001B[0;34m(\u001B[0m\u001B[0mepe\u001B[0m\u001B[0;34m)\u001B[0m\u001B[0;34m\u001B[0m\u001B[0;34m\u001B[0m\u001B[0m\n",
      "\u001B[0;31mValueError\u001B[0m: operands could not be broadcast together with shapes (388,584) (388,584,3) "
     ]
    }
   ],
   "source": [
    "flow_error(tu, tv, u, v)"
   ]
  },
  {
   "cell_type": "code",
   "execution_count": 72,
   "metadata": {},
   "outputs": [
    {
     "data": {
      "text/plain": [
       "(388, 584)"
      ]
     },
     "execution_count": 72,
     "metadata": {},
     "output_type": "execute_result"
    }
   ],
   "source": [
    "tu.shape"
   ]
  },
  {
   "cell_type": "code",
   "execution_count": 73,
   "metadata": {},
   "outputs": [
    {
     "data": {
      "text/plain": [
       "(388, 584, 3)"
      ]
     },
     "execution_count": 73,
     "metadata": {},
     "output_type": "execute_result"
    }
   ],
   "source": [
    "u.shape"
   ]
  },
  {
   "cell_type": "code",
   "execution_count": null,
   "metadata": {},
   "outputs": [],
   "source": []
  }
 ],
 "metadata": {
  "kernelspec": {
   "display_name": "Python 3 (ipykernel)",
   "language": "python",
   "name": "python3"
  },
  "language_info": {
   "codemirror_mode": {
    "name": "ipython",
    "version": 3
   },
   "file_extension": ".py",
   "mimetype": "text/x-python",
   "name": "python",
   "nbconvert_exporter": "python",
   "pygments_lexer": "ipython3",
   "version": "3.9.15"
  }
 },
 "nbformat": 4,
 "nbformat_minor": 1
}