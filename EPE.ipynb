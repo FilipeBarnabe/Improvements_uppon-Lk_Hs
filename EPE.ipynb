{
 "cells": [
  {
   "cell_type": "code",
   "execution_count": 201,
   "metadata": {
    "pycharm": {
     "name": "#%%\n"
    }
   },
   "outputs": [],
   "source": [
    "import numpy as np\n",
    "import matplotlib.colors as cl\n",
    "import matplotlib.pyplot as plt\n",
    "from PIL import Image\n",
    "import cv2\n",
    "from LK import *\n",
    "from ipynb.fs.full.LK_Multi_Channel import *\n",
    "import math\n",
    "\n",
    "UNKNOWN_FLOW_THRESH = 1e7\n",
    "SMALLFLOW = 0.0\n",
    "LARGEFLOW = 1e8"
   ]
  },
  {
   "cell_type": "code",
   "execution_count": 155,
   "metadata": {
    "pycharm": {
     "name": "#%%\n"
    }
   },
   "outputs": [],
   "source": [
    "\"\"\"\n",
    "=============\n",
    "Flow Section\n",
    "=============\n",
    "\"\"\"\n",
    "def show_flow(filename):\n",
    "    \"\"\"\n",
    "    visualize optical flow map using matplotlib\n",
    "    :param filename: optical flow file\n",
    "    :return: None\n",
    "    \"\"\"\n",
    "    flow = read_flo_file(filename)\n",
    "    img = flow_to_image(flow)\n",
    "    plt.imshow(img)\n",
    "    plt.show()"
   ]
  },
  {
   "cell_type": "code",
   "execution_count": 156,
   "metadata": {
    "pycharm": {
     "name": "#%%\n"
    }
   },
   "outputs": [],
   "source": [
    "def save_flow_image(flow, image_file):\n",
    "    \"\"\"\n",
    "    save flow visualization into image file\n",
    "    :param flow: optical flow data\n",
    "    :param flow_fil\n",
    "    :return: None\n",
    "    \"\"\"\n",
    "    flow_img = flow_to_image(flow)\n",
    "    img_out = Image.fromarray(flow_img)\n",
    "    img_out.save(image_file)"
   ]
  },
  {
   "cell_type": "code",
   "execution_count": 157,
   "metadata": {
    "pycharm": {
     "name": "#%%\n"
    }
   },
   "outputs": [],
   "source": [
    "def flowfile_to_imagefile(flow_file, image_file):\n",
    "    \"\"\"\n",
    "    convert flowfile into image file\n",
    "    :param flow: optical flow data\n",
    "    :param flow_fil\n",
    "    :return: None\n",
    "    \"\"\"\n",
    "    flow = read_flow(flow_file)\n",
    "    save_flow_image(flow, image_file)"
   ]
  },
  {
   "cell_type": "code",
   "execution_count": 158,
   "metadata": {},
   "outputs": [],
   "source": [
    "def read_flo_file(filename, verbose=False):\n",
    "    \"\"\"\n",
    "    Read from .flo optical flow file (Middlebury format)\n",
    "    :param flow_file: name of the flow file\n",
    "    :return: optical flow data in matrix\n",
    "    adapted from https://github.com/liruoteng/OpticalFlowToolkit/\n",
    "    \"\"\"\n",
    "    f = open(filename, 'rb')\n",
    "    magic = np.fromfile(f, np.float32, count=1)\n",
    "    data2d = None\n",
    "\n",
    "    if 202021.25 != magic:\n",
    "        raise TypeError('Magic number incorrect. Invalid .flo file')\n",
    "    else:\n",
    "        w = np.fromfile(f, np.int32, count=1)\n",
    "        h = np.fromfile(f, np.int32, count=1)\n",
    "        if verbose:\n",
    "            print(\"Reading %d x %d flow file in .flo format\" % (h, w))\n",
    "        data2d = np.fromfile(f, np.float32, count=int(2 * w * h))\n",
    "        # reshape data into 3D array (columns, rows, channels)\n",
    "        data2d = np.resize(data2d, (h[0], w[0], 2))\n",
    "    f.close()\n",
    "    return data2d"
   ]
  },
  {
   "cell_type": "code",
   "execution_count": 190,
   "metadata": {
    "pycharm": {
     "name": "#%%\n"
    }
   },
   "outputs": [],
   "source": [
    "def flow_error(tu, tv, u, v):\n",
    "    \"\"\"\n",
    "    Calculate average end point error\n",
    "    :param tu: ground-truth horizontal flow map\n",
    "    :param tv: ground-truth vertical flow map\n",
    "    :param u:  estimated horizontal flow map\n",
    "    :param v:  estimated vertical flow map\n",
    "    :return: End point error of the estimated flow\n",
    "    \"\"\"\n",
    "    smallflow = 0.0\n",
    "    '''\n",
    "    stu = tu[bord+1:end-bord,bord+1:end-bord]\n",
    "    stv = tv[bord+1:end-bord,bord+1:end-bord]\n",
    "    su = u[bord+1:end-bord,bord+1:end-bord]\n",
    "    sv = v[bord+1:end-bord,bord+1:end-bord]\n",
    "    '''\n",
    "    stu = tu[:]\n",
    "    stv = tv[:]\n",
    "    su = u[:]\n",
    "    sv = v[:]\n",
    "\n",
    "    idxUnknow = (abs(stu) > UNKNOWN_FLOW_THRESH) | (abs(stv) > UNKNOWN_FLOW_THRESH)\n",
    "    stu[idxUnknow] = 0\n",
    "    stv[idxUnknow] = 0\n",
    "    su[idxUnknow] = 0\n",
    "    sv[idxUnknow] = 0\n",
    "\n",
    "    ind2 = [(np.absolute(stu) > smallflow) | (np.absolute(stv) > smallflow)]\n",
    "    index_su = su[tuple(ind2)]\n",
    "    index_sv = sv[tuple(ind2)]\n",
    "    an = 1.0 / np.sqrt(index_su ** 2 + index_sv ** 2 + 1)\n",
    "    un = index_su * an\n",
    "    vn = index_sv * an\n",
    "\n",
    "    index_stu = stu[tuple(ind2)]\n",
    "    index_stv = stv[tuple(ind2)]\n",
    "    tn = 1.0 / np.sqrt(index_stu ** 2 + index_stv ** 2 + 1)\n",
    "    tun = index_stu * tn\n",
    "    tvn = index_stv * tn\n",
    "\n",
    "    '''\n",
    "    angle = un * tun + vn * tvn + (an * tn)\n",
    "    index = [angle == 1.0]\n",
    "    angle[index] = 0.999\n",
    "    ang = np.arccos(angle)\n",
    "    mang = np.mean(ang)\n",
    "    mang = mang * 180 / np.pi\n",
    "    '''\n",
    "    \n",
    "\n",
    "    epe = np.sqrt((stu - su) ** 2 + (stv - sv) ** 2)\n",
    "    epe = epe[tuple(ind2)]\n",
    "    sdEpe = round(np.std(epe),2)\n",
    "    mepe = round(np.mean(epe),2)\n",
    "    return mepe,sdEpe"
   ]
  },
  {
   "cell_type": "code",
   "execution_count": 197,
   "metadata": {},
   "outputs": [],
   "source": [
    "def calc_MEPE_directory(folder_name):\n",
    "    flo_in_path = 'ground_truth_flow/'+folder_name+'/flow10.flo'\n",
    "    #Read flo file\n",
    "    flow = read_flo_file(flo_in_path)\n",
    "    #Extract the true u\n",
    "    tu = flow[:, :, 0]\n",
    "    #Extract the true v\n",
    "    tv = flow[:, :, 1]\n",
    "\n",
    "    prevImg = cv2.imread('dataset/other-data-color/'+folder_name+'/frame10.png')\n",
    "    NextImg = cv2.imread('dataset/other-data-color/'+folder_name+'/frame11.png')\n",
    "    \n",
    "    #calcualte u and v\n",
    "    u, v, arrow = calcOpticalFlowLK_Multi_Channel(prevImg,NextImg)\n",
    "    \n",
    "    #calulate Average End Point Error\n",
    "    mepe,sdEpe = flow_error(tu, tv, u, v)\n",
    "    print(\"The Average End Point Error for \"+folder_name+ \" is: \" + str(mepe)+\" and the standard deviation is: \"+str(sdEpe))\n",
    "    #print(\"The Average Angular Error is: \" + str(mang))\n",
    "      "
   ]
  },
  {
   "cell_type": "code",
   "execution_count": 198,
   "metadata": {},
   "outputs": [],
   "source": [
    "def calc_MEPE_all():\n",
    "    folders = [\"Dimetrodon\",\"Grove2\",\"Grove3\",\"Hydrangea\",\"RubberWhale\",\"Urban2\",\"Urban3\",\"Venus\"]\n",
    "    for folder in folders:\n",
    "        calc_MEPE_directory(folder)\n",
    "        #print(folder +\": Succesfully calcualted optical flow\")\n"
   ]
  },
  {
   "cell_type": "code",
   "execution_count": 199,
   "metadata": {},
   "outputs": [
    {
     "name": "stdout",
     "output_type": "stream",
     "text": [
      "The Average End Point Error for Dimetrodon is: 1.95 and the standard deviation is: 0.71\n",
      "The Average End Point Error for Grove2 is: 3.03 and the standard deviation is: 0.5\n",
      "The Average End Point Error for Grove3 is: 3.84 and the standard deviation is: 2.31\n",
      "The Average End Point Error for Hydrangea is: 3.65 and the standard deviation is: 1.17\n",
      "The Average End Point Error for RubberWhale is: 1.13 and the standard deviation is: 0.49\n",
      "The Average End Point Error for Urban2 is: 8.32 and the standard deviation is: 8.1\n",
      "The Average End Point Error for Urban3 is: 7.22 and the standard deviation is: 4.39\n",
      "The Average End Point Error for Venus is: 3.74 and the standard deviation is: 1.78\n"
     ]
    }
   ],
   "source": [
    "calc_MEPE_all()"
   ]
  },
  {
   "cell_type": "code",
   "execution_count": null,
   "metadata": {},
   "outputs": [],
   "source": [
    "##### Angular Error ######"
   ]
  },
  {
   "cell_type": "code",
   "execution_count": 206,
   "metadata": {},
   "outputs": [],
   "source": [
    "import numpy as np\n",
    "\n",
    "def unit_vector(vector):\n",
    "    \"\"\" Returns the unit vector of the vector.  \"\"\"\n",
    "    return vector / np.linalg.norm(vector)\n",
    "\n",
    "def angle_between(v1, v2):\n",
    "    \"\"\" Returns the angle in degrees between vectors 'v1' and 'v2'::\n",
    "\n",
    "            >>> angle_between((1, 0, 0), (0, 1, 0))\n",
    "            1.5707963267948966\n",
    "            >>> angle_between((1, 0, 0), (1, 0, 0))\n",
    "            0.0\n",
    "            >>> angle_between((1, 0, 0), (-1, 0, 0))\n",
    "            3.141592653589793\n",
    "    \"\"\"\n",
    "    v1_u = unit_vector(v1)\n",
    "    v2_u = unit_vector(v2)\n",
    "    return math.degrees(np.arccos(np.clip(np.dot(v1_u, v2_u), -1.0, 1.0)))"
   ]
  },
  {
   "cell_type": "code",
   "execution_count": 218,
   "metadata": {},
   "outputs": [
    {
     "data": {
      "text/plain": [
       "15.255118703057764"
      ]
     },
     "execution_count": 218,
     "metadata": {},
     "output_type": "execute_result"
    }
   ],
   "source": [
    "v1 = (8,6)\n",
    "v2 = (7,9)\n",
    "angle_between(v1,v2)"
   ]
  },
  {
   "cell_type": "code",
   "execution_count": 269,
   "metadata": {},
   "outputs": [],
   "source": [
    "def angle_flow_error(tu, tv, u, v):\n",
    "    \"\"\"\n",
    "    Calculate average end point error\n",
    "    :param tu: ground-truth horizontal flow map\n",
    "    :param tv: ground-truth vertical flow map\n",
    "    :param u:  estimated horizontal flow map\n",
    "    :param v:  estimated vertical flow map\n",
    "    :return: End point error of the estimated flow\n",
    "    \"\"\"\n",
    "    smallflow = 0.0\n",
    "    '''\n",
    "    stu = tu[bord+1:end-bord,bord+1:end-bord]\n",
    "    stv = tv[bord+1:end-bord,bord+1:end-bord]\n",
    "    su = u[bord+1:end-bord,bord+1:end-bord]\n",
    "    sv = v[bord+1:end-bord,bord+1:end-bord]\n",
    "    '''\n",
    "    stu = tu[:]\n",
    "    stv = tv[:]\n",
    "    su = u[:]\n",
    "    sv = v[:]\n",
    "\n",
    "    idxUnknow = (abs(stu) > UNKNOWN_FLOW_THRESH) | (abs(stv) > UNKNOWN_FLOW_THRESH)\n",
    "    stu[idxUnknow] = 0\n",
    "    stv[idxUnknow] = 0\n",
    "    su[idxUnknow] = 0\n",
    "    sv[idxUnknow] = 0\n",
    "\n",
    "    ind2 = [(np.absolute(stu) > smallflow) | (np.absolute(stv) > smallflow)]\n",
    "    index_su = su[tuple(ind2)]\n",
    "    index_sv = sv[tuple(ind2)]\n",
    "    an = 1.0 / np.sqrt(index_su ** 2 + index_sv ** 2 + 1)\n",
    "    un = index_su * an\n",
    "    vn = index_sv * an\n",
    "\n",
    "    index_stu = stu[tuple(ind2)]\n",
    "    index_stv = stv[tuple(ind2)]\n",
    "    tn = 1.0 / np.sqrt(index_stu ** 2 + index_stv ** 2 + 1)\n",
    "    tun = index_stu * tn\n",
    "    tvn = index_stv * tn\n",
    "\n",
    "    \n",
    "    angle = un * tun + vn * tvn + (an * tn)\n",
    "    #index = [angle == 1.0]\n",
    "    #print(index)\n",
    "    #angle[index] = 0.999\n",
    "    #angle = np.arccos(angle)\n",
    "    mang = np.mean(angle)\n",
    "    #mang = mang * 180 / np.pi\n",
    "    \n",
    "\n",
    "    \n",
    "    DifferenceAngles = []\n",
    "    \n",
    "    '''\n",
    "    for i in range(u.shape[0]):\n",
    "        for j in range(u.shape[1]):\n",
    "            vect1 = stu[i,j] + stv[i,j]\n",
    "            vect2 = su[i,j] + sv[i,j]\n",
    "            angleBet = angle_between(vect1,vect2)\n",
    "            DifferenceAngles.append(angleBet)\n",
    "            \n",
    "    sdAngular = round(np.std(DifferenceAngles),2)\n",
    "    AAE = round(np.mean(DifferenceAngles),2)\n",
    "    return mang,AAE,sdAngular\n",
    "    '''\n",
    "\n",
    "    \n",
    "    \n",
    "    sdAngular = round(np.std(angle),2)\n",
    "    AAE = round(mang,2)\n",
    "    return AAE,sdAngular"
   ]
  },
  {
   "cell_type": "code",
   "execution_count": 270,
   "metadata": {},
   "outputs": [],
   "source": [
    "def calc_AAE_directory(folder_name):\n",
    "    flo_in_path = 'ground_truth_flow/'+folder_name+'/flow10.flo'\n",
    "    #Read flo file\n",
    "    flow = read_flo_file(flo_in_path)\n",
    "    #Extract the true u\n",
    "    tu = flow[:, :, 0]\n",
    "    #Extract the true v\n",
    "    tv = flow[:, :, 1]\n",
    "\n",
    "    prevImg = cv2.imread('dataset/other-data-color/'+folder_name+'/frame10.png')\n",
    "    NextImg = cv2.imread('dataset/other-data-color/'+folder_name+'/frame11.png')\n",
    "    \n",
    "    #calcualte u and v\n",
    "    u, v, arrow = calcOpticalFlowLK_Multi_Channel(prevImg,NextImg)\n",
    "    \n",
    "    #calulate Average Angular error\n",
    "    mang,sdAngular = angle_flow_error(tu, tv, u, v)\n",
    "    print(\"The Average Angular error for \"+folder_name+ \" is: \" + str(mang)+\" and the standard deviation is: \"+str(sdAngular))\n",
    "    #print(\"The Average Angular Error is: \" + str(mang))"
   ]
  },
  {
   "cell_type": "code",
   "execution_count": 271,
   "metadata": {},
   "outputs": [
    {
     "name": "stdout",
     "output_type": "stream",
     "text": [
      "The Average Angular error for Grove2 is: 0.37 and the standard deviation is: 0.06\n"
     ]
    }
   ],
   "source": [
    "calc_AAE_directory(\"Grove2\")"
   ]
  },
  {
   "cell_type": "code",
   "execution_count": null,
   "metadata": {},
   "outputs": [],
   "source": [
    "#Tools: https://github.com/liruoteng/OpticalFlowToolkit/blob/master/lib/flowlib.py"
   ]
  },
  {
   "cell_type": "code",
   "execution_count": null,
   "metadata": {},
   "outputs": [],
   "source": [
    "##### EXTRA's ########"
   ]
  },
  {
   "cell_type": "code",
   "execution_count": 165,
   "metadata": {},
   "outputs": [],
   "source": [
    "def make_color_wheel():\n",
    "    \"\"\"\n",
    "    Generate color wheel according Middlebury color code\n",
    "    :return: Color wheel\n",
    "    \"\"\"\n",
    "    RY = 15\n",
    "    YG = 6\n",
    "    GC = 4\n",
    "    CB = 11\n",
    "    BM = 13\n",
    "    MR = 6\n",
    "\n",
    "    ncols = RY + YG + GC + CB + BM + MR\n",
    "\n",
    "    colorwheel = np.zeros([ncols, 3])\n",
    "\n",
    "    col = 0\n",
    "\n",
    "    # RY\n",
    "    colorwheel[0:RY, 0] = 255\n",
    "    colorwheel[0:RY, 1] = np.transpose(np.floor(255*np.arange(0, RY) / RY))\n",
    "    col += RY\n",
    "\n",
    "    # YG\n",
    "    colorwheel[col:col+YG, 0] = 255 - np.transpose(np.floor(255*np.arange(0, YG) / YG))\n",
    "    colorwheel[col:col+YG, 1] = 255\n",
    "    col += YG\n",
    "\n",
    "    # GC\n",
    "    colorwheel[col:col+GC, 1] = 255\n",
    "    colorwheel[col:col+GC, 2] = np.transpose(np.floor(255*np.arange(0, GC) / GC))\n",
    "    col += GC\n",
    "\n",
    "    # CB\n",
    "    colorwheel[col:col+CB, 1] = 255 - np.transpose(np.floor(255*np.arange(0, CB) / CB))\n",
    "    colorwheel[col:col+CB, 2] = 255\n",
    "    col += CB\n",
    "\n",
    "    # BM\n",
    "    colorwheel[col:col+BM, 2] = 255\n",
    "    colorwheel[col:col+BM, 0] = np.transpose(np.floor(255*np.arange(0, BM) / BM))\n",
    "    col += + BM\n",
    "\n",
    "    # MR\n",
    "    colorwheel[col:col+MR, 2] = 255 - np.transpose(np.floor(255 * np.arange(0, MR) / MR))\n",
    "    colorwheel[col:col+MR, 0] = 255\n",
    "\n",
    "    return colorwheel"
   ]
  },
  {
   "cell_type": "code",
   "execution_count": 171,
   "metadata": {},
   "outputs": [],
   "source": [
    "\n",
    "def flow_to_image(flow):\n",
    "    \"\"\"\n",
    "    Convert flow into middlebury color code image\n",
    "    :param flow: optical flow map\n",
    "    :return: optical flow image in middlebury color\n",
    "    \"\"\"\n",
    "    u = flow[:, :, 0]\n",
    "    v = flow[:, :, 1]\n",
    "\n",
    "    maxu = -999.\n",
    "    maxv = -999.\n",
    "    minu = 999.\n",
    "    minv = 999.\n",
    "\n",
    "    idxUnknow = (abs(u) > UNKNOWN_FLOW_THRESH) | (abs(v) > UNKNOWN_FLOW_THRESH)\n",
    "    u[idxUnknow] = 0\n",
    "    v[idxUnknow] = 0\n",
    "\n",
    "    maxu = max(maxu, np.max(u))\n",
    "    minu = min(minu, np.min(u))\n",
    "\n",
    "    maxv = max(maxv, np.max(v))\n",
    "    minv = min(minv, np.min(v))\n",
    "\n",
    "    rad = np.sqrt(u ** 2 + v ** 2)\n",
    "    maxrad = max(-1, np.max(rad))\n",
    "\n",
    "    u = u/(maxrad + np.finfo(float).eps)\n",
    "    v = v/(maxrad + np.finfo(float).eps)\n",
    "\n",
    "    img = compute_color(u, v)\n",
    "\n",
    "    idx = np.repeat(idxUnknow[:, :, np.newaxis], 3, axis=2)\n",
    "    img[idx] = 0\n",
    "\n",
    "    return np.uint8(img)"
   ]
  },
  {
   "cell_type": "code",
   "execution_count": 174,
   "metadata": {},
   "outputs": [],
   "source": [
    "\n",
    "def scale_image(image, new_range):\n",
    "    \"\"\"\n",
    "    Linearly scale the image into desired range\n",
    "    :param image: input image\n",
    "    :param new_range: the new range to be aligned\n",
    "    :return: image normalized in new range\n",
    "    \"\"\"\n",
    "    min_val = np.min(image).astype(np.float32)\n",
    "    max_val = np.max(image).astype(np.float32)\n",
    "    min_val_new = np.array(min(new_range), dtype=np.float32)\n",
    "    max_val_new = np.array(max(new_range), dtype=np.float32)\n",
    "    scaled_image = (image - min_val) / (max_val - min_val) * (max_val_new - min_val_new) + min_val_new\n",
    "    return scaled_image.astype(np.uint8)\n",
    "\n",
    "\n",
    "def compute_color(u, v):\n",
    "    \"\"\"\n",
    "    compute optical flow color map\n",
    "    :param u: optical flow horizontal map\n",
    "    :param v: optical flow vertical map\n",
    "    :return: optical flow in color code\n",
    "    \"\"\"\n",
    "    [h, w] = u.shape\n",
    "    img = np.zeros([h, w, 3])\n",
    "    nanIdx = np.isnan(u) | np.isnan(v)\n",
    "    u[nanIdx] = 0\n",
    "    v[nanIdx] = 0\n",
    "\n",
    "    colorwheel = make_color_wheel()\n",
    "    ncols = np.size(colorwheel, 0)\n",
    "\n",
    "    rad = np.sqrt(u**2+v**2)\n",
    "\n",
    "    a = np.arctan2(-v, -u) / np.pi\n",
    "\n",
    "    fk = (a+1) / 2 * (ncols - 1) + 1\n",
    "\n",
    "    k0 = np.floor(fk).astype(int)\n",
    "\n",
    "    k1 = k0 + 1\n",
    "    k1[k1 == ncols+1] = 1\n",
    "    f = fk - k0\n",
    "\n",
    "    for i in range(0, np.size(colorwheel,1)):\n",
    "        tmp = colorwheel[:, i]\n",
    "        col0 = tmp[k0-1] / 255\n",
    "        col1 = tmp[k1-1] / 255\n",
    "        col = (1-f) * col0 + f * col1\n",
    "\n",
    "        idx = rad <= 1\n",
    "        col[idx] = 1-rad[idx]*(1-col[idx])\n",
    "        notidx = np.logical_not(idx)\n",
    "\n",
    "        col[notidx] *= 0.75\n",
    "        img[:, :, i] = np.uint8(np.floor(255 * col*(1-nanIdx)))\n",
    "\n",
    "    return img\n",
    "\n"
   ]
  },
  {
   "cell_type": "code",
   "execution_count": 172,
   "metadata": {},
   "outputs": [],
   "source": [
    "\n",
    "def visualize_flow(flow, mode='Y'):\n",
    "    \"\"\"\n",
    "    this function visualize the input flow\n",
    "    :param flow: input flow in array\n",
    "    :param mode: choose which color mode to visualize the flow (Y: Ccbcr, RGB: RGB color)\n",
    "    :return: None\n",
    "    \"\"\"\n",
    "    if mode == 'Y':\n",
    "        # Ccbcr color wheel\n",
    "        img = flow_to_image(flow)\n",
    "        plt.imshow(img)\n",
    "        plt.show()\n",
    "    elif mode == 'RGB':\n",
    "        (h, w) = flow.shape[0:2]\n",
    "        du = flow[:, :, 0]\n",
    "        dv = flow[:, :, 1]\n",
    "        valid = flow[:, :, 2]\n",
    "        max_flow = max(np.max(du), np.max(dv))\n",
    "        img = np.zeros((h, w, 3), dtype=np.float64)\n",
    "        # angle layer\n",
    "        img[:, :, 0] = np.arctan2(dv, du) / (2 * np.pi)\n",
    "        # magnitude layer, normalized to 1\n",
    "        img[:, :, 1] = np.sqrt(du * du + dv * dv) * 8 / max_flow\n",
    "        # phase layer\n",
    "        img[:, :, 2] = 8 - img[:, :, 1]\n",
    "        # clip to [0,1]\n",
    "        small_idx = img[:, :, 0:3] < 0\n",
    "        large_idx = img[:, :, 0:3] > 1\n",
    "        img[small_idx] = 0\n",
    "        img[large_idx] = 1\n",
    "        # convert to rgb\n",
    "        img = cl.hsv_to_rgb(img)\n",
    "        # remove invalid point\n",
    "        img[:, :, 0] = img[:, :, 0] * valid\n",
    "        img[:, :, 1] = img[:, :, 1] * valid\n",
    "        img[:, :, 2] = img[:, :, 2] * valid\n",
    "        # show\n",
    "        plt.imshow(img)\n",
    "        plt.show()\n",
    "\n",
    "    return None"
   ]
  },
  {
   "cell_type": "code",
   "execution_count": 175,
   "metadata": {},
   "outputs": [
    {
     "data": {
      "image/png": "[encoded data removed]",
      "text/plain": [
       "<Figure size 432x288 with 1 Axes>"
      ]
     },
     "metadata": {
      "needs_background": "light"
     },
     "output_type": "display_data"
    }
   ],
   "source": [
    "visualize_flow(flow)"
   ]
  },
  {
   "cell_type": "code",
   "execution_count": 180,
   "metadata": {},
   "outputs": [],
   "source": [
    "colorwheel = make_color_wheel()\n",
    "cv2.imshow(\"wheel\",colorwheel)"
   ]
  },
  {
   "cell_type": "code",
   "execution_count": null,
   "metadata": {},
   "outputs": [],
   "source": []
  },
  {
   "cell_type": "code",
   "execution_count": null,
   "metadata": {},
   "outputs": [],
   "source": []
  }
 ],
 "metadata": {
  "kernelspec": {
   "display_name": "Python 3 (ipykernel)",
   "language": "python",
   "name": "python3"
  },
  "language_info": {
   "codemirror_mode": {
    "name": "ipython",
    "version": 3
   },
   "file_extension": ".py",
   "mimetype": "text/x-python",
   "name": "python",
   "nbconvert_exporter": "python",
   "pygments_lexer": "ipython3",
   "version": "3.9.15"
  }
 },
 "nbformat": 4,
 "nbformat_minor": 1
}
