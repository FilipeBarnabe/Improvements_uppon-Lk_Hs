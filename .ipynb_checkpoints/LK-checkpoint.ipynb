{
 "cells": [
  {
   "cell_type": "code",
   "execution_count": 40,
   "metadata": {
    "pycharm": {
     "name": "#%%\n"
    }
   },
   "outputs": [],
   "source": [
    "import numpy as np\n",
    "from matplotlib import pyplot as plt\n",
    "import sys, os, cv2, time"
   ]
  },
  {
   "cell_type": "code",
   "execution_count": 41,
   "metadata": {
    "pycharm": {
     "name": "#%%\n"
    }
   },
   "outputs": [],
   "source": [
    "def calcOpticalFlowLK(prevImg, nextImg, winSize = 39, threshD = 1e-9):\n",
    "    prevImg = prevImg/1.\n",
    "    nextImg = nextImg/1.\n",
    "    \n",
    "    #Calculate derivatives alond x and y\n",
    "    prevDx = cv2.Sobel(prevImg,cv2.CV_64F,1,0, ksize=3)\n",
    "    prevDy = cv2.Sobel(prevImg,cv2.CV_64F,0,1, ksize=3)\n",
    "    nextDx = cv2.Sobel(nextImg,cv2.CV_64F,1,0, ksize=3)\n",
    "    nextDy = cv2.Sobel(nextImg,cv2.CV_64F,0,1, ksize=3)\n",
    "    \n",
    "    #compromise solution by the least squares principle\n",
    "    \n",
    "    sigma1 = prevDx**2 + nextDx**2\n",
    "    sigma2 = sigma4 = prevDx*prevDy+nextDx*nextDy\n",
    "    sigma3 = (nextImg-prevImg)*(prevDx+nextDx)\n",
    "    sigma5 = prevDy**2 + nextDy**2\n",
    "    sigma6 = (nextImg-prevImg)*(prevDy+nextDy)\n",
    "    sigma = [sigma1, sigma2, sigma3, sigma4, sigma5, sigma6]\n",
    "    \n",
    "    for i in range(len(sigma)):\n",
    "        #apply average blurring\n",
    "        sigma[i] = cv2.blur(sigma[i], (winSize, winSize))\n",
    "     \n",
    "    #Use Cramer's rule to solve the equation\n",
    "    \n",
    "    #Calculate determinant of the coefficients\n",
    "    D = sigma[1]**2 - sigma[0]*sigma[4]\n",
    "    D[np.abs(D) < threshD] = np.Inf\n",
    "\n",
    "    \n",
    "    #Cramers rule\n",
    "    # https://pressbooks.bccampus.ca/algebraintermediate/chapter/solve-systems-of-equations-using-determinants/\n",
    "    # Replace the X coefficients with the constants and take the determinant \n",
    "    hx = (sigma[4]*sigma[2]-sigma[1]*sigma[5]) / D\n",
    "    # Replace the Y coefficients with the constants and take the determinant \n",
    "    hy = (sigma[1]*sigma[2]-sigma[0]*sigma[5]) / D\n",
    "    \n",
    "    #length -> euclidean distance\n",
    "    arrow = np.sqrt(hx**2+hy**2)\n",
    "    \n",
    "    return hx, -hy, arrow"
   ]
  },
  {
   "cell_type": "code",
   "execution_count": 42,
   "metadata": {},
   "outputs": [],
   "source": [
    "def calcOpticalFlowLK(prevImg, nextImg, winSize = 39, threshD = 1e-9):\n",
    "    prevImg = prevImg/1.\n",
    "    nextImg = nextImg/1.\n",
    "    \n",
    "    #Calculate derivatives alond x and y\n",
    "    prevDx = cv2.Sobel(prevImg,cv2.CV_64F,1,0, ksize=3)\n",
    "    prevDy = cv2.Sobel(prevImg,cv2.CV_64F,0,1, ksize=3)\n",
    "    nextDx = cv2.Sobel(nextImg,cv2.CV_64F,1,0, ksize=3)\n",
    "    nextDy = cv2.Sobel(nextImg,cv2.CV_64F,0,1, ksize=3)\n",
    "    \n",
    "    #compromise solution by the least squares principle\n",
    "    \n",
    "    sigma1 = prevDx**2 + nextDx**2\n",
    "    sigma2 = sigma4 = prevDx*prevDy+nextDx*nextDy\n",
    "    sigma3 = (nextImg-prevImg)*(prevDx+nextDx)\n",
    "    sigma5 = prevDy**2 + nextDy**2\n",
    "    sigma6 = (nextImg-prevImg)*(prevDy+nextDy)\n",
    "    sigma = [sigma1, sigma2, sigma3, sigma4, sigma5, sigma6]\n",
    "    \n",
    "    for i in range(len(sigma)):\n",
    "        #apply average blurring\n",
    "        sigma[i] = cv2.blur(sigma[i], (winSize, winSize))\n",
    "     \n",
    "    #Use Cramer's rule to solve the equation\n",
    "    \n",
    "    #Calculate determinant of the coefficients\n",
    "    D = sigma[1]**2 - sigma[0]*sigma[4]\n",
    "    D[np.abs(D) < threshD] = np.Inf\n",
    "\n",
    "    \n",
    "    #Cramers rule\n",
    "    # https://pressbooks.bccampus.ca/algebraintermediate/chapter/solve-systems-of-equations-using-determinants/\n",
    "    # Replace the X coefficients with the constants and take the determinant \n",
    "    hx = (sigma[4]*sigma[2]-sigma[1]*sigma[5]) / D\n",
    "    # Replace the Y coefficients with the constants and take the determinant \n",
    "    hy = (sigma[1]*sigma[2]-sigma[0]*sigma[5]) / D\n",
    "    \n",
    "    #length -> euclidean distance\n",
    "    arrow = np.sqrt(hx**2+hy**2)\n",
    "    \n",
    "    return hx, -hy, arrow"
   ]
  },
  {
   "cell_type": "code",
   "execution_count": 47,
   "metadata": {},
   "outputs": [],
   "source": [
    "prevName = \"dataset/eval-data-gray/Army/frame07.png\"; nextName = \"dataset/eval-data-gray/Army/frame08.png\"\n",
    "prevImg = cv2.imread(prevName)\n",
    "nextImg = cv2.imread(nextName)\n",
    "prevRBG = cv2.cvtColor(prevImg, cv2.COLOR_BGR2RGB)\n",
    "nextGrey = cv2.cvtColor(nextImg, cv2.COLOR_BGR2GRAY)"
   ]
  },
  {
   "cell_type": "code",
   "execution_count": 51,
   "metadata": {},
   "outputs": [],
   "source": [
    "red = prevRBG[:,:,2]\n",
    "green = prevRBG[:,:,1]\n",
    "blue = prevRBG[:,:,0]\n",
    "cv2.imshow(\"test\", red)"
   ]
  },
  {
   "cell_type": "code",
   "execution_count": 50,
   "metadata": {},
   "outputs": [
    {
     "data": {
      "text/plain": [
       "array([[122, 119, 120, ..., 100, 102, 107],\n",
       "       [120, 120, 121, ...,  99, 109, 114],\n",
       "       [120, 121, 125, ..., 100, 105, 107],\n",
       "       ...,\n",
       "       [ 88,  82,  78, ..., 196, 195, 195],\n",
       "       [ 85,  79,  74, ..., 196, 196, 195],\n",
       "       [ 80,  72,  64, ..., 195, 195, 194]], dtype=uint8)"
      ]
     },
     "execution_count": 50,
     "metadata": {},
     "output_type": "execute_result"
    }
   ],
   "source": [
    "red"
   ]
  },
  {
   "cell_type": "code",
   "execution_count": null,
   "metadata": {},
   "outputs": [],
   "source": [
    "def extractChannels(Img):\n",
    "    red = img[:,:,2]\n",
    "    green = img[:,:,1]\n",
    "    blue = img[:,:,0]\n",
    "    return blue,green,red"
   ]
  },
  {
   "cell_type": "code",
   "execution_count": 52,
   "metadata": {},
   "outputs": [],
   "source": [
    "def calcDerivativesForEachChannel(Img):\n",
    "    red = img[:,:,2]\n",
    "    green = img[:,:,1]\n",
    "    blue = img[:,:,0]\n",
    "    \n",
    "    #Calculate X derivatives\n",
    "    I0x = cv2.Sobel(blue,cv2.CV_64F,1,0, ksize=3)\n",
    "    I1x = cv2.Sobel(green,cv2.CV_64F,1,0, ksize=3)\n",
    "    I2x = cv2.Sobel(red,cv2.CV_64F,1,0, ksize=3)\n",
    "    \n",
    "    #Caluclate Y derivatives\n",
    "    I0y = cv2.Sobel(blue,cv2.CV_64F,0,1, ksize=3)\n",
    "    I1y = cv2.Sobel(green,cv2.CV_64F,0,1, ksize=3)\n",
    "    I2y = cv2.Sobel(red,cv2.CV_64F,0,1, ksize=3)\n",
    "    \n",
    "    return I0x,I1x,I2x,I0y,I1y,I2y\n",
    "    "
   ]
  },
  {
   "cell_type": "code",
   "execution_count": 53,
   "metadata": {},
   "outputs": [],
   "source": [
    "def calcOpticalFlowLK_Multi_Channel(prevImg, nextImg, winSize = 39, threshD = 1e-9):\n",
    "    prevImg = prevImg/1.\n",
    "    nextImg = nextImg/1.\n",
    "    \n",
    "    #PrevImgBlue,PrevImgGreen,PrevImgrRed = extractChannels(prevImg)\n",
    "    #NextImgBlue,NextImgGreen,NextImgrRed = extractChannels(prevImg)\n",
    "    \n",
    "    #Calculate derivatives alond x and y\n",
    "    \n",
    "    prevI0x,prevI1x,prevI2x,prevI0y,prevI1y,prevI2y = calcDerivativesForEachChannel(prevImg)\n",
    "    nextI0x,nextI1x,nextI2x,nextI0y,nextI1y,nextI2y = calcDerivativesForEachChannel(nextImg)\n",
    "    \n",
    "    \n",
    "    #compromise solution by the least squares principle\n",
    "    \n",
    "    sigma1 = prevI0x**2 + prevI1x**2 + prevI2x**2+ nextI0x**2 +nextI1x**2 +nextI2x**2 \n",
    "    sigma2 = sigma4 = prevI0x* prevI0y + prevI1x* prevI1y + prevI2x* prevI2y + nextI0x* nextI0y + nextI1x* nextI1y + nextI2x* nextI2y\n",
    "    \n",
    "    sigma3 = (nextImg-prevImg)*(prevI0x + prevI1x + prevI2x+ nextI0x +nextI1x +nextI2x)\n",
    "    \n",
    "    sigma5 = prevI0y**2 + prevI1y**2 + prevI2y**2+ nextI0y**2 +nextI1y**2 +nextI2y**2 \n",
    "    \n",
    "    sigma6 = (nextImg-prevImg)*(prevI0y + prevI1y + prevI2y + nextI0y +nextI1y +nextI2y)\n",
    "    sigma = [sigma1, sigma2, sigma3, sigma4, sigma5, sigma6]\n",
    "    \n",
    "    for i in range(len(sigma)):\n",
    "        #apply average blurring\n",
    "        #sigma[i] = cv2.blur(sigma[i], (winSize, winSize))\n",
    "        #Gaussian blurring. The sigma determines the contribution of neighbours.\n",
    "        sigma[i] = cv2.GaussianBlur(sigma[i],(winSize, winSize),0)\n",
    "     \n",
    "    #Use Cramer's rule to solve the equation\n",
    "    \n",
    "    #Calculate determinant of the coefficients\n",
    "    D = sigma[1]**2 - sigma[0]*sigma[4]\n",
    "    D[np.abs(D) < threshD] = np.Inf\n",
    "\n",
    "    \n",
    "    #Cramers rule\n",
    "    # https://pressbooks.bccampus.ca/algebraintermediate/chapter/solve-systems-of-equations-using-determinants/\n",
    "    # Replace the X coefficients with the constants and take the determinant \n",
    "    hx = (sigma[4]*sigma[2]-sigma[1]*sigma[5]) / D\n",
    "    # Replace the Y coefficients with the constants and take the determinant \n",
    "    hy = (sigma[1]*sigma[2]-sigma[0]*sigma[5]) / D\n",
    "    \n",
    "    #length -> euclidean distance\n",
    "    arrow = np.sqrt(hx**2+hy**2)\n",
    "    \n",
    "    return hx, -hy, arrow"
   ]
  },
  {
   "cell_type": "code",
   "execution_count": 44,
   "metadata": {
    "pycharm": {
     "name": "#%%\n"
    }
   },
   "outputs": [],
   "source": [
    "def getCoor(hx, hy, arrow, step = 20, percent = 0.1):\n",
    "    y, x= np.meshgrid(np.arange(0, hx.shape[0], step), np.arange(0, hx.shape[1], step))\n",
    "    coor = np.vstack((x.flatten(), y.flatten()))\n",
    "    \n",
    "    arrow = arrow[y, x]\n",
    "    index = np.argsort(arrow.flatten())\n",
    "    coor = coor[:, index[int(-len(index)*percent):]]\n",
    "    return coor"
   ]
  },
  {
   "cell_type": "code",
   "execution_count": 45,
   "metadata": {
    "pycharm": {
     "name": "#%%\n"
    }
   },
   "outputs": [],
   "source": [
    "def drawArrow(img, hx, hy, coor, scale=50):\n",
    "    color = (0, 255, 255)\n",
    "    mask = np.zeros_like(img)\n",
    "    m = np.max((np.abs(hx), np.abs(hy)))\n",
    "    if m < 0.5:\n",
    "        scale /=0.5\n",
    "    for i in range(coor.shape[1]):\n",
    "        x1 = int(coor[0, i])\n",
    "        y1 = int(coor[1, i])\n",
    "        x2 = int(coor[0, i]+hx[y1, x1]*scale)\n",
    "        y2 = int(coor[1, i]+hy[y1, x1]*scale)\n",
    "        mask = cv2.line(mask, (x1, y1), (x2, y2), color, thickness=1)\n",
    "        mask = cv2.circle(mask,(x1,y1), 3, color, -1)\n",
    "    out = cv2.add(img, mask)\n",
    "    return out"
   ]
  },
  {
   "cell_type": "code",
   "execution_count": 46,
   "metadata": {
    "pycharm": {
     "name": "#%%\n"
    }
   },
   "outputs": [],
   "source": [
    "def test():\n",
    "    prevName = \"dataset/eval-data-gray/Army/frame07.png\"; nextName = \"dataset/eval-data-gray/Army/frame08.png\"\n",
    "    prevImg = cv2.imread(prevName)\n",
    "    nextImg = cv2.imread(nextName)\n",
    "    prevGray = cv2.cvtColor(prevImg, cv2.COLOR_BGR2GRAY)\n",
    "    nextGray = cv2.cvtColor(nextImg, cv2.COLOR_BGR2GRAY)\n",
    "    hx, hy, arrow= calcOpticalFlowLK(prevGray, nextGray)\n",
    "    print(\"arrow_max = {}\".format(np.max(arrow)))\n",
    "    coor = getCoor(hx, hy, arrow, step=10, percent=0.2)\n",
    "    out = drawArrow(prevImg, hx, hy, coor)\n",
    "    plt.hist(arrow.ravel(), 1000, [0, 1]); plt.show()\n",
    "    while 1:\n",
    "        cv2.imshow('frame',out)\n",
    "        k = cv2.waitKey(30) & 0xff\n",
    "        if k == 27:\n",
    "            break"
   ]
  },
  {
   "cell_type": "code",
   "execution_count": null,
   "metadata": {},
   "outputs": [],
   "source": []
  },
  {
   "cell_type": "code",
   "execution_count": 37,
   "metadata": {
    "pycharm": {
     "name": "#%%\n"
    }
   },
   "outputs": [],
   "source": [
    "def run(prevImg, nextImg):\n",
    "    prevGray = cv2.cvtColor(prevImg, cv2.COLOR_BGR2GRAY)\n",
    "    nextGray = cv2.cvtColor(nextImg, cv2.COLOR_BGR2GRAY)\n",
    "    hx, hy, arrow= calcOpticalFlowLK(prevGray, nextGray)\n",
    "    coor = getCoor(hx, hy, arrow)\n",
    "    out = drawArrow(prevImg, hx, hy, coor)\n",
    "    return out"
   ]
  },
  {
   "cell_type": "code",
   "execution_count": 55,
   "metadata": {},
   "outputs": [],
   "source": [
    "def run_color(prevImg, nextImg):\n",
    "    prevImg = cv2.imread(prevName)\n",
    "    nextImg = cv2.imread(nextName)\n",
    "    prevRBG = cv2.cvtColor(prevImg, cv2.COLOR_BGR2RGB)\n",
    "    nextRGB = cv2.cvtColor(nextImg, cv2.COLOR_BGR2GRAY)\n",
    "    hx, hy, arrow= calcOpticalFlowLK_Multi_Channel(prevRGB, nextRGB)\n",
    "    coor = getCoor(hx, hy, arrow)\n",
    "    out = drawArrow(prevImg, hx, hy, coor)\n",
    "    return out"
   ]
  },
  {
   "cell_type": "code",
   "execution_count": 57,
   "metadata": {
    "pycharm": {
     "name": "#%%\n"
    }
   },
   "outputs": [],
   "source": [
    "def main(folder_name):\n",
    "    folder_in = 'dataset/eval-data-gray/'+folder_name+'/'\n",
    "    folder_out = 'results/result-grey-LK/'+folder_name+'/'\n",
    "    if not os.path.exists(folder_out):\n",
    "        os.mkdir(folder_out)\n",
    "    files = os.listdir(folder_in)\n",
    "    files.sort()\n",
    "    for i in range(len(files)-1):\n",
    "        prevImg = cv2.imread(folder_in+files[i])\n",
    "        nextImg = cv2.imread(folder_in+files[i+1])\n",
    "        out = run(prevImg, nextImg)\n",
    "        cv2.imwrite(folder_out+str(i)+'.png', out)"
   ]
  },
  {
   "cell_type": "code",
   "execution_count": 58,
   "metadata": {},
   "outputs": [],
   "source": [
    "main(\"Army\")"
   ]
  },
  {
   "cell_type": "code",
   "execution_count": 59,
   "metadata": {},
   "outputs": [],
   "source": [
    "def calc_all():\n",
    "    folders = [\"Army\",\"Backyard\",\"Basketball\",\"Dumptruck\",\"Evergreen\",\"Grove\",\"Mequon\",\"Schefflera\",\"Teddy\",\"Urban\",\"Wooden\",\"Yosemite\"]\n",
    "    for folder in folders:\n",
    "        main(folder)\n",
    "        print(folder +\": Succesfully calcualted optical flow\")"
   ]
  },
  {
   "cell_type": "code",
   "execution_count": 60,
   "metadata": {},
   "outputs": [
    {
     "name": "stdout",
     "output_type": "stream",
     "text": [
      "Army: Succesfully calcualted optical flow\n",
      "Backyard: Succesfully calcualted optical flow\n",
      "Basketball: Succesfully calcualted optical flow\n",
      "Dumptruck: Succesfully calcualted optical flow\n",
      "Evergreen: Succesfully calcualted optical flow\n",
      "Grove: Succesfully calcualted optical flow\n",
      "Mequon: Succesfully calcualted optical flow\n",
      "Schefflera: Succesfully calcualted optical flow\n",
      "Teddy: Succesfully calcualted optical flow\n",
      "Urban: Succesfully calcualted optical flow\n",
      "Wooden: Succesfully calcualted optical flow\n",
      "Yosemite: Succesfully calcualted optical flow\n"
     ]
    }
   ],
   "source": [
    "calc_all()"
   ]
  },
  {
   "cell_type": "code",
   "execution_count": 9,
   "metadata": {
    "pycharm": {
     "name": "#%%\n"
    }
   },
   "outputs": [],
   "source": [
    "def video(infile, outfile = 'result.avi'):\n",
    "    assert os.path.exists(infile), \"video doesn't exist\"\n",
    "    cap = cv2.VideoCapture(infile)\n",
    "    fps = cap.get(cv2.CAP_PROP_FPS)\n",
    "    width = cap.get(cv2.CAP_PROP_FRAME_WIDTH)\n",
    "    height = cap.get(cv2.CAP_PROP_FRAME_HEIGHT)\n",
    "    fourcc = cv2.VideoWriter_fourcc('M','J','P','G')\n",
    "    out_video = cv2.VideoWriter(outfile, fourcc, fps, (int(width), int(height)))\n",
    "    _, old_frame = cap.read()\n",
    "    while 1:\n",
    "        ret, frame = cap.read()\n",
    "        if ret:\n",
    "            out = run(old_frame, frame)\n",
    "            cv2.imshow('frame', out)\n",
    "            out_video.write(out)\n",
    "        else: break\n",
    "    cv2.destroyAllWindows()\n",
    "    out_video.release()\n",
    "    cap.release()"
   ]
  },
  {
   "cell_type": "code",
   "execution_count": 10,
   "metadata": {},
   "outputs": [],
   "source": [
    "#video(\"/Users/xavierverbrugge/Documents/School/Master/2e Master/1 SEM/Computer Vision/Assignment 2/Forest_15_3b_Videvo.mov\")"
   ]
  },
  {
   "cell_type": "code",
   "execution_count": null,
   "metadata": {},
   "outputs": [],
   "source": [
    "# Calculation of Average end-point error\n",
    "# End-to-end point error is calculated by comparing an estimated optical flow vector (v_est ) with a groundtruth optical flow vector ( v_gt )."
   ]
  }
 ],
 "metadata": {
  "kernelspec": {
   "display_name": "Python 3 (ipykernel)",
   "language": "python",
   "name": "python3"
  },
  "language_info": {
   "codemirror_mode": {
    "name": "ipython",
    "version": 3
   },
   "file_extension": ".py",
   "mimetype": "text/x-python",
   "name": "python",
   "nbconvert_exporter": "python",
   "pygments_lexer": "ipython3",
   "version": "3.9.15"
  }
 },
 "nbformat": 4,
 "nbformat_minor": 1
}
